{
 "cells": [
  {
   "attachments": {},
   "cell_type": "markdown",
   "metadata": {},
   "source": [
    "# Fault detection for INS of a ship described by Nomoto second order model\n",
    "\n",
    "INS (Inertial navigation system) includes a gyriscope and accelerometer"
   ]
  },
  {
   "attachments": {},
   "cell_type": "markdown",
   "metadata": {},
   "source": [
    "## Data import and analysis"
   ]
  },
  {
   "cell_type": "code",
   "execution_count": 2,
   "metadata": {},
   "outputs": [],
   "source": [
    "import pandas as pd\n",
    "import glob\n",
    "import matplotlib.pyplot as plt\n",
    "import seaborn as sns\n",
    "from statsmodels.tsa.seasonal import seasonal_decompose\n",
    "import numpy as np"
   ]
  },
  {
   "cell_type": "code",
   "execution_count": 45,
   "metadata": {},
   "outputs": [
    {
     "data": {
      "text/plain": [
       "280"
      ]
     },
     "execution_count": 45,
     "metadata": {},
     "output_type": "execute_result"
    }
   ],
   "source": [
    "files = glob.glob('datasets/*.csv')\n",
    "\n",
    "measurement_step = 100\n",
    "\n",
    "data = []\n",
    "for file in files:\n",
    "  if(file != 'data_model.csv'):\n",
    "      temp = pd.read_csv(file, usecols = ['u1', 'y1', 'y2', 'y_nominal1', 'y_nominal2', 'fault_u1',\n",
    "       'fault_y1', 'fault_y2', 'comp_fault'])\n",
    "      indexes = range(0, temp.shape[0], measurement_step)\n",
    "      temp = temp.iloc[indexes][:]\n",
    "      data.append(temp)      \n",
    "len(data)"
   ]
  },
  {
   "cell_type": "code",
   "execution_count": 46,
   "metadata": {},
   "outputs": [
    {
     "data": {
      "text/plain": [
       "(50, 9)"
      ]
     },
     "execution_count": 46,
     "metadata": {},
     "output_type": "execute_result"
    }
   ],
   "source": [
    "data[0].shape"
   ]
  },
  {
   "cell_type": "code",
   "execution_count": 47,
   "metadata": {},
   "outputs": [
    {
     "name": "stdout",
     "output_type": "stream",
     "text": [
      "<class 'pandas.core.frame.DataFrame'>\n",
      "Index: 50 entries, 0 to 4900\n",
      "Data columns (total 9 columns):\n",
      " #   Column      Non-Null Count  Dtype  \n",
      "---  ------      --------------  -----  \n",
      " 0   u1          50 non-null     float64\n",
      " 1   y1          50 non-null     float64\n",
      " 2   y2          50 non-null     float64\n",
      " 3   y_nominal1  50 non-null     float64\n",
      " 4   y_nominal2  50 non-null     float64\n",
      " 5   fault_u1    50 non-null     float64\n",
      " 6   fault_y1    50 non-null     float64\n",
      " 7   fault_y2    50 non-null     float64\n",
      " 8   comp_fault  50 non-null     float64\n",
      "dtypes: float64(9)\n",
      "memory usage: 3.9 KB\n"
     ]
    }
   ],
   "source": [
    "data[0].info()"
   ]
  },
  {
   "cell_type": "code",
   "execution_count": 48,
   "metadata": {},
   "outputs": [
    {
     "data": {
      "text/html": [
       "<div>\n",
       "<style scoped>\n",
       "    .dataframe tbody tr th:only-of-type {\n",
       "        vertical-align: middle;\n",
       "    }\n",
       "\n",
       "    .dataframe tbody tr th {\n",
       "        vertical-align: top;\n",
       "    }\n",
       "\n",
       "    .dataframe thead th {\n",
       "        text-align: right;\n",
       "    }\n",
       "</style>\n",
       "<table border=\"1\" class=\"dataframe\">\n",
       "  <thead>\n",
       "    <tr style=\"text-align: right;\">\n",
       "      <th></th>\n",
       "      <th>u1</th>\n",
       "      <th>y1</th>\n",
       "      <th>y2</th>\n",
       "      <th>y_nominal1</th>\n",
       "      <th>y_nominal2</th>\n",
       "      <th>fault_u1</th>\n",
       "      <th>fault_y1</th>\n",
       "      <th>fault_y2</th>\n",
       "      <th>comp_fault</th>\n",
       "    </tr>\n",
       "  </thead>\n",
       "  <tbody>\n",
       "    <tr>\n",
       "      <th>4500</th>\n",
       "      <td>-0.221198</td>\n",
       "      <td>-0.210813</td>\n",
       "      <td>0.165109</td>\n",
       "      <td>-0.251443</td>\n",
       "      <td>0.107338</td>\n",
       "      <td>0.0</td>\n",
       "      <td>0.0</td>\n",
       "      <td>0.0</td>\n",
       "      <td>0.0</td>\n",
       "    </tr>\n",
       "    <tr>\n",
       "      <th>4600</th>\n",
       "      <td>0.133344</td>\n",
       "      <td>-0.187746</td>\n",
       "      <td>0.585067</td>\n",
       "      <td>-0.199047</td>\n",
       "      <td>0.314831</td>\n",
       "      <td>0.0</td>\n",
       "      <td>0.0</td>\n",
       "      <td>0.0</td>\n",
       "      <td>0.0</td>\n",
       "    </tr>\n",
       "    <tr>\n",
       "      <th>4700</th>\n",
       "      <td>-0.014817</td>\n",
       "      <td>0.322831</td>\n",
       "      <td>-0.174711</td>\n",
       "      <td>0.346907</td>\n",
       "      <td>-0.258333</td>\n",
       "      <td>0.0</td>\n",
       "      <td>0.0</td>\n",
       "      <td>0.0</td>\n",
       "      <td>0.0</td>\n",
       "    </tr>\n",
       "    <tr>\n",
       "      <th>4800</th>\n",
       "      <td>-0.107118</td>\n",
       "      <td>0.045924</td>\n",
       "      <td>-0.181092</td>\n",
       "      <td>0.032668</td>\n",
       "      <td>-0.190933</td>\n",
       "      <td>0.0</td>\n",
       "      <td>0.0</td>\n",
       "      <td>0.0</td>\n",
       "      <td>0.0</td>\n",
       "    </tr>\n",
       "    <tr>\n",
       "      <th>4900</th>\n",
       "      <td>0.204413</td>\n",
       "      <td>-0.383175</td>\n",
       "      <td>0.228794</td>\n",
       "      <td>-0.362575</td>\n",
       "      <td>0.349905</td>\n",
       "      <td>0.0</td>\n",
       "      <td>0.0</td>\n",
       "      <td>0.0</td>\n",
       "      <td>0.0</td>\n",
       "    </tr>\n",
       "  </tbody>\n",
       "</table>\n",
       "</div>"
      ],
      "text/plain": [
       "            u1        y1        y2  y_nominal1  y_nominal2  fault_u1  \\\n",
       "4500 -0.221198 -0.210813  0.165109   -0.251443    0.107338       0.0   \n",
       "4600  0.133344 -0.187746  0.585067   -0.199047    0.314831       0.0   \n",
       "4700 -0.014817  0.322831 -0.174711    0.346907   -0.258333       0.0   \n",
       "4800 -0.107118  0.045924 -0.181092    0.032668   -0.190933       0.0   \n",
       "4900  0.204413 -0.383175  0.228794   -0.362575    0.349905       0.0   \n",
       "\n",
       "      fault_y1  fault_y2  comp_fault  \n",
       "4500       0.0       0.0         0.0  \n",
       "4600       0.0       0.0         0.0  \n",
       "4700       0.0       0.0         0.0  \n",
       "4800       0.0       0.0         0.0  \n",
       "4900       0.0       0.0         0.0  "
      ]
     },
     "execution_count": 48,
     "metadata": {},
     "output_type": "execute_result"
    }
   ],
   "source": [
    "data[10].tail()"
   ]
  },
  {
   "attachments": {},
   "cell_type": "markdown",
   "metadata": {},
   "source": [
    "Check fault cases"
   ]
  },
  {
   "cell_type": "code",
   "execution_count": 49,
   "metadata": {},
   "outputs": [
    {
     "name": "stdout",
     "output_type": "stream",
     "text": [
      "y1 faults in samples  [25, 26, 27, 28, 29, 30, 31, 32, 33, 35, 36, 37, 38, 39, 40, 41, 42, 43, 44, 46, 47, 48, 49, 50, 51, 52, 53, 54, 55, 57, 58, 59, 60, 61, 62, 63, 64, 65, 66, 68, 114, 115, 116, 117, 118, 119, 120, 121, 122, 124, 125, 126, 127, 128, 129, 130, 131, 132, 133, 135, 136, 137, 138, 139, 140, 141, 142, 143, 144, 146, 147, 148, 149, 150, 151, 152, 153, 154, 155, 157, 216, 217, 218, 219, 220, 221, 222, 223, 224, 226, 227, 228, 229, 230, 231, 232, 233, 234, 235, 237, 238, 239, 240, 241, 242, 243, 244, 245, 246, 248, 249, 250, 251, 252, 253, 254, 255, 256, 257, 259]\n",
      "y2 faults in samples  [2, 3, 4, 5, 6, 7, 8, 9, 10, 11, 13, 14, 15, 16, 17, 18, 19, 20, 21, 22, 24, 69, 70, 71, 72, 73, 74, 75, 76, 77, 79, 80, 81, 82, 83, 84, 85, 86, 87, 88, 90, 91, 92, 93, 94, 95, 96, 97, 98, 99, 101, 102, 103, 104, 105, 106, 107, 108, 109, 110, 113, 158, 159, 160, 161, 162, 163, 164, 165, 166, 168, 169, 170, 171, 172, 173, 174, 175, 176, 177, 179, 180, 181, 182, 183, 184, 185, 186, 187, 188, 190, 191, 192, 193, 194, 195, 196, 197, 198, 199, 201, 260, 261, 262, 263, 264, 265, 266, 267, 268, 270, 271, 272, 273, 274, 275, 276, 277, 278, 279]\n"
     ]
    }
   ],
   "source": [
    "u1 = []\n",
    "y1 = []\n",
    "y2 = []\n",
    "comp = []\n",
    "for s in range(len(data)):\n",
    "  df = data[s].loc[data[s]['fault_u1'] != 0]\n",
    "  if (df.empty != True):\n",
    "    u1.append(s)\n",
    "  df = data[s].loc[data[s]['fault_y1'] != 0]\n",
    "  if (df.empty != True):\n",
    "    y1.append(s)\n",
    "  df = data[s].loc[data[s]['fault_y2'] != 0]\n",
    "  if (df.empty != True):\n",
    "    y2.append(s)\n",
    "  df = data[s].loc[(data[s]['fault_y2'] != 0) & (data[s]['fault_y1'] != 0)]\n",
    "  if (df.empty != True):\n",
    "    comp.append(s)\n",
    "\n",
    "print('y1 faults in samples ', y1)\n",
    "print('y2 faults in samples ', y2)"
   ]
  },
  {
   "attachments": {},
   "cell_type": "markdown",
   "metadata": {},
   "source": [
    "## Feature engineering\n",
    "\n",
    "Add features:\n",
    "- previous values for each measurement (parameter max_lag)\n",
    "- rolling mean value (parameters rolling_mean_first_size and count_rolling)\n",
    "- first derivative\n",
    "- second derivative"
   ]
  },
  {
   "cell_type": "code",
   "execution_count": 50,
   "metadata": {},
   "outputs": [],
   "source": [
    "def make_features(df, max_lag, rolling_mean_first_size, count_rolling):\n",
    "    df_res = df.copy()\n",
    "    # Add n lags\n",
    "    for lag in range(1, max_lag + 1):\n",
    "        df_res['y1_lag_{}'.format(lag)] = df_res['y1'].shift(lag)\n",
    "        df_res['y2_lag_{}'.format(lag)] = df_res['y2'].shift(lag)\n",
    "        df_res['y_nominal1_lag_{}'.format(lag)] = df_res['y_nominal1'].shift(lag)\n",
    "        df_res['y_nominal2_lag_{}'.format(lag)] = df_res['y_nominal2'].shift(lag)\n",
    "# Add rolling mean\n",
    "    df_cols = ['y1',\t'y2',\t'y_nominal1',\t'y_nominal2']\n",
    "    for counts in range(1, (count_rolling + 1)):\n",
    "      for rol in range(len(df_cols)):\n",
    "        s = df_cols[rol]+'_rolling_mean_{}'.format(rolling_mean_first_size*counts)\n",
    "        df_res[s] = df_res[df_cols[rol]].shift().rolling(rolling_mean_first_size*counts).mean()\n",
    "        # Add first derivative\n",
    "    if (max_lag > 0):\n",
    "      df_res['Vy1'] = df_res['y1'] - df_res['y1_lag_1']\n",
    "      df_res['Vy2'] = df_res['y2'] - df_res['y2_lag_1']\n",
    "      df_res['Vy_nominal1'] = df_res['y_nominal1'] - df_res['y_nominal1_lag_1']\n",
    "      df_res['Vy_nominal2'] = df_res['y_nominal2'] - df_res['y_nominal2_lag_1']\n",
    "    if (max_lag > 1): # Add second derivative\n",
    "      df_res['Ay1'] = df_res['Vy1'] - (df_res['y1_lag_1'] - df_res['y1_lag_2'])\n",
    "      df_res['Ay2'] = df_res['Vy2'] - (df_res['y2_lag_1'] - df_res['y2_lag_2'])\n",
    "      df_res['Ay_nominal1'] = df_res['Vy_nominal1'] - (df_res['y_nominal1_lag_1'] - df_res['y_nominal1_lag_2'])\n",
    "      df_res['Ay_nominal2'] = df_res['Vy_nominal2'] - (df_res['y_nominal2_lag_1'] - df_res['y_nominal2_lag_2'])\n",
    "    if (max_lag > 2): # Add third derivative\n",
    "      df_res['jy1'] = df_res['Ay1'] - (df_res['y1_lag_1'] - 2*df_res['y1_lag_2'] + df_res['y1_lag_3'])\n",
    "      df_res['jy2'] = df_res['Ay2'] - (df_res['y2_lag_1'] - 2*df_res['y2_lag_2'] + df_res['y2_lag_3'])\n",
    "      df_res['jy_nominal1'] = df_res['Ay_nominal1'] - (df_res['y_nominal1_lag_1'] - 2*df_res['y_nominal1_lag_2'] + df_res['y_nominal1_lag_3'])\n",
    "      df_res['jy_nominal2'] = df_res['Ay_nominal2'] - (df_res['y_nominal2_lag_1'] - 2*df_res['y_nominal2_lag_2'] + df_res['y_nominal2_lag_3'])\n",
    "\n",
    "    df_res = df_res.dropna().reset_index(drop=True)\n",
    "    return df_res"
   ]
  },
  {
   "cell_type": "code",
   "execution_count": 51,
   "metadata": {},
   "outputs": [],
   "source": [
    "augmented_data = []\n",
    "for df1 in data:\n",
    "  df1 = df1.drop(['fault_u1', 'comp_fault'], axis=1)\n",
    "  augmented_data.append(make_features(df1, 2, 5, 2))"
   ]
  },
  {
   "cell_type": "code",
   "execution_count": 52,
   "metadata": {},
   "outputs": [
    {
     "data": {
      "text/plain": [
       "280"
      ]
     },
     "execution_count": 52,
     "metadata": {},
     "output_type": "execute_result"
    }
   ],
   "source": [
    "len(augmented_data)"
   ]
  },
  {
   "cell_type": "code",
   "execution_count": 53,
   "metadata": {},
   "outputs": [
    {
     "name": "stdout",
     "output_type": "stream",
     "text": [
      "<class 'pandas.core.frame.DataFrame'>\n",
      "RangeIndex: 40 entries, 0 to 39\n",
      "Data columns (total 31 columns):\n",
      " #   Column                      Non-Null Count  Dtype  \n",
      "---  ------                      --------------  -----  \n",
      " 0   u1                          40 non-null     float64\n",
      " 1   y1                          40 non-null     float64\n",
      " 2   y2                          40 non-null     float64\n",
      " 3   y_nominal1                  40 non-null     float64\n",
      " 4   y_nominal2                  40 non-null     float64\n",
      " 5   fault_y1                    40 non-null     int8   \n",
      " 6   fault_y2                    40 non-null     int8   \n",
      " 7   y1_lag_1                    40 non-null     float64\n",
      " 8   y2_lag_1                    40 non-null     float64\n",
      " 9   y_nominal1_lag_1            40 non-null     float64\n",
      " 10  y_nominal2_lag_1            40 non-null     float64\n",
      " 11  y1_lag_2                    40 non-null     float64\n",
      " 12  y2_lag_2                    40 non-null     float64\n",
      " 13  y_nominal1_lag_2            40 non-null     float64\n",
      " 14  y_nominal2_lag_2            40 non-null     float64\n",
      " 15  y1_rolling_mean_5           40 non-null     float64\n",
      " 16  y2_rolling_mean_5           40 non-null     float64\n",
      " 17  y_nominal1_rolling_mean_5   40 non-null     float64\n",
      " 18  y_nominal2_rolling_mean_5   40 non-null     float64\n",
      " 19  y1_rolling_mean_10          40 non-null     float64\n",
      " 20  y2_rolling_mean_10          40 non-null     float64\n",
      " 21  y_nominal1_rolling_mean_10  40 non-null     float64\n",
      " 22  y_nominal2_rolling_mean_10  40 non-null     float64\n",
      " 23  Vy1                         40 non-null     float64\n",
      " 24  Vy2                         40 non-null     float64\n",
      " 25  Vy_nominal1                 40 non-null     float64\n",
      " 26  Vy_nominal2                 40 non-null     float64\n",
      " 27  Ay1                         40 non-null     float64\n",
      " 28  Ay2                         40 non-null     float64\n",
      " 29  Ay_nominal1                 40 non-null     float64\n",
      " 30  Ay_nominal2                 40 non-null     float64\n",
      "dtypes: float64(29), int8(2)\n",
      "memory usage: 9.3 KB\n"
     ]
    }
   ],
   "source": [
    "for df1 in augmented_data:\n",
    "    df1['fault_y1'] = df1['fault_y1'].astype(np.int8)\n",
    "    df1['fault_y2'] = df1['fault_y2'].astype(np.int8)\n",
    "\n",
    "augmented_data[3].info()"
   ]
  },
  {
   "cell_type": "code",
   "execution_count": 54,
   "metadata": {},
   "outputs": [
    {
     "data": {
      "text/html": [
       "<div>\n",
       "<style scoped>\n",
       "    .dataframe tbody tr th:only-of-type {\n",
       "        vertical-align: middle;\n",
       "    }\n",
       "\n",
       "    .dataframe tbody tr th {\n",
       "        vertical-align: top;\n",
       "    }\n",
       "\n",
       "    .dataframe thead th {\n",
       "        text-align: right;\n",
       "    }\n",
       "</style>\n",
       "<table border=\"1\" class=\"dataframe\">\n",
       "  <thead>\n",
       "    <tr style=\"text-align: right;\">\n",
       "      <th></th>\n",
       "      <th>u1</th>\n",
       "      <th>y1</th>\n",
       "      <th>y2</th>\n",
       "      <th>y_nominal1</th>\n",
       "      <th>y_nominal2</th>\n",
       "      <th>fault_y1</th>\n",
       "      <th>fault_y2</th>\n",
       "      <th>y1_lag_1</th>\n",
       "      <th>y2_lag_1</th>\n",
       "      <th>y_nominal1_lag_1</th>\n",
       "      <th>...</th>\n",
       "      <th>y_nominal1_rolling_mean_10</th>\n",
       "      <th>y_nominal2_rolling_mean_10</th>\n",
       "      <th>Vy1</th>\n",
       "      <th>Vy2</th>\n",
       "      <th>Vy_nominal1</th>\n",
       "      <th>Vy_nominal2</th>\n",
       "      <th>Ay1</th>\n",
       "      <th>Ay2</th>\n",
       "      <th>Ay_nominal1</th>\n",
       "      <th>Ay_nominal2</th>\n",
       "    </tr>\n",
       "  </thead>\n",
       "  <tbody>\n",
       "    <tr>\n",
       "      <th>0</th>\n",
       "      <td>-0.073428</td>\n",
       "      <td>0.105847</td>\n",
       "      <td>0.012385</td>\n",
       "      <td>0.146901</td>\n",
       "      <td>0.158164</td>\n",
       "      <td>0</td>\n",
       "      <td>0</td>\n",
       "      <td>-0.001258</td>\n",
       "      <td>0.083172</td>\n",
       "      <td>0.011643</td>\n",
       "      <td>...</td>\n",
       "      <td>0.134420</td>\n",
       "      <td>-0.024413</td>\n",
       "      <td>0.107104</td>\n",
       "      <td>-0.070787</td>\n",
       "      <td>0.135258</td>\n",
       "      <td>0.125704</td>\n",
       "      <td>0.023451</td>\n",
       "      <td>-0.152879</td>\n",
       "      <td>-0.008436</td>\n",
       "      <td>-0.023655</td>\n",
       "    </tr>\n",
       "    <tr>\n",
       "      <th>1</th>\n",
       "      <td>-0.012372</td>\n",
       "      <td>0.098878</td>\n",
       "      <td>0.089909</td>\n",
       "      <td>0.175122</td>\n",
       "      <td>0.168609</td>\n",
       "      <td>0</td>\n",
       "      <td>0</td>\n",
       "      <td>0.105847</td>\n",
       "      <td>0.012385</td>\n",
       "      <td>0.146901</td>\n",
       "      <td>...</td>\n",
       "      <td>0.066189</td>\n",
       "      <td>0.009427</td>\n",
       "      <td>-0.006969</td>\n",
       "      <td>0.077524</td>\n",
       "      <td>0.028221</td>\n",
       "      <td>0.010446</td>\n",
       "      <td>-0.114073</td>\n",
       "      <td>0.148311</td>\n",
       "      <td>-0.107037</td>\n",
       "      <td>-0.115258</td>\n",
       "    </tr>\n",
       "    <tr>\n",
       "      <th>2</th>\n",
       "      <td>0.078177</td>\n",
       "      <td>0.152718</td>\n",
       "      <td>0.099235</td>\n",
       "      <td>0.075730</td>\n",
       "      <td>0.056184</td>\n",
       "      <td>0</td>\n",
       "      <td>0</td>\n",
       "      <td>0.098878</td>\n",
       "      <td>0.089909</td>\n",
       "      <td>0.175122</td>\n",
       "      <td>...</td>\n",
       "      <td>0.052430</td>\n",
       "      <td>0.036398</td>\n",
       "      <td>0.053840</td>\n",
       "      <td>0.009326</td>\n",
       "      <td>-0.099392</td>\n",
       "      <td>-0.112425</td>\n",
       "      <td>0.060808</td>\n",
       "      <td>-0.068198</td>\n",
       "      <td>-0.127613</td>\n",
       "      <td>-0.122871</td>\n",
       "    </tr>\n",
       "    <tr>\n",
       "      <th>3</th>\n",
       "      <td>-0.017638</td>\n",
       "      <td>-0.048143</td>\n",
       "      <td>-0.046339</td>\n",
       "      <td>-0.078847</td>\n",
       "      <td>-0.097184</td>\n",
       "      <td>0</td>\n",
       "      <td>0</td>\n",
       "      <td>0.152718</td>\n",
       "      <td>0.099235</td>\n",
       "      <td>0.075730</td>\n",
       "      <td>...</td>\n",
       "      <td>0.043781</td>\n",
       "      <td>0.036844</td>\n",
       "      <td>-0.200861</td>\n",
       "      <td>-0.145573</td>\n",
       "      <td>-0.154577</td>\n",
       "      <td>-0.153368</td>\n",
       "      <td>-0.254701</td>\n",
       "      <td>-0.154899</td>\n",
       "      <td>-0.055186</td>\n",
       "      <td>-0.040943</td>\n",
       "    </tr>\n",
       "    <tr>\n",
       "      <th>4</th>\n",
       "      <td>-0.071406</td>\n",
       "      <td>-0.240253</td>\n",
       "      <td>-0.185839</td>\n",
       "      <td>-0.175966</td>\n",
       "      <td>-0.179731</td>\n",
       "      <td>0</td>\n",
       "      <td>0</td>\n",
       "      <td>-0.048143</td>\n",
       "      <td>-0.046339</td>\n",
       "      <td>-0.078847</td>\n",
       "      <td>...</td>\n",
       "      <td>0.016382</td>\n",
       "      <td>0.010441</td>\n",
       "      <td>-0.192109</td>\n",
       "      <td>-0.139500</td>\n",
       "      <td>-0.097119</td>\n",
       "      <td>-0.082547</td>\n",
       "      <td>0.008752</td>\n",
       "      <td>0.006074</td>\n",
       "      <td>0.057459</td>\n",
       "      <td>0.070821</td>\n",
       "    </tr>\n",
       "  </tbody>\n",
       "</table>\n",
       "<p>5 rows × 31 columns</p>\n",
       "</div>"
      ],
      "text/plain": [
       "         u1        y1        y2  y_nominal1  y_nominal2  fault_y1  fault_y2  \\\n",
       "0 -0.073428  0.105847  0.012385    0.146901    0.158164         0         0   \n",
       "1 -0.012372  0.098878  0.089909    0.175122    0.168609         0         0   \n",
       "2  0.078177  0.152718  0.099235    0.075730    0.056184         0         0   \n",
       "3 -0.017638 -0.048143 -0.046339   -0.078847   -0.097184         0         0   \n",
       "4 -0.071406 -0.240253 -0.185839   -0.175966   -0.179731         0         0   \n",
       "\n",
       "   y1_lag_1  y2_lag_1  y_nominal1_lag_1  ...  y_nominal1_rolling_mean_10  \\\n",
       "0 -0.001258  0.083172          0.011643  ...                    0.134420   \n",
       "1  0.105847  0.012385          0.146901  ...                    0.066189   \n",
       "2  0.098878  0.089909          0.175122  ...                    0.052430   \n",
       "3  0.152718  0.099235          0.075730  ...                    0.043781   \n",
       "4 -0.048143 -0.046339         -0.078847  ...                    0.016382   \n",
       "\n",
       "   y_nominal2_rolling_mean_10       Vy1       Vy2  Vy_nominal1  Vy_nominal2  \\\n",
       "0                   -0.024413  0.107104 -0.070787     0.135258     0.125704   \n",
       "1                    0.009427 -0.006969  0.077524     0.028221     0.010446   \n",
       "2                    0.036398  0.053840  0.009326    -0.099392    -0.112425   \n",
       "3                    0.036844 -0.200861 -0.145573    -0.154577    -0.153368   \n",
       "4                    0.010441 -0.192109 -0.139500    -0.097119    -0.082547   \n",
       "\n",
       "        Ay1       Ay2  Ay_nominal1  Ay_nominal2  \n",
       "0  0.023451 -0.152879    -0.008436    -0.023655  \n",
       "1 -0.114073  0.148311    -0.107037    -0.115258  \n",
       "2  0.060808 -0.068198    -0.127613    -0.122871  \n",
       "3 -0.254701 -0.154899    -0.055186    -0.040943  \n",
       "4  0.008752  0.006074     0.057459     0.070821  \n",
       "\n",
       "[5 rows x 31 columns]"
      ]
     },
     "execution_count": 54,
     "metadata": {},
     "output_type": "execute_result"
    }
   ],
   "source": [
    "augmented_data[5].head()"
   ]
  },
  {
   "cell_type": "code",
   "execution_count": 55,
   "metadata": {},
   "outputs": [],
   "source": [
    "all_data = pd.DataFrame()\n",
    "for df in augmented_data:\n",
    "  all_data = pd.concat([all_data, df], ignore_index = True)"
   ]
  },
  {
   "cell_type": "code",
   "execution_count": 56,
   "metadata": {},
   "outputs": [
    {
     "name": "stdout",
     "output_type": "stream",
     "text": [
      "<class 'pandas.core.frame.DataFrame'>\n",
      "RangeIndex: 11200 entries, 0 to 11199\n",
      "Data columns (total 31 columns):\n",
      " #   Column                      Non-Null Count  Dtype  \n",
      "---  ------                      --------------  -----  \n",
      " 0   u1                          11200 non-null  float64\n",
      " 1   y1                          11200 non-null  float64\n",
      " 2   y2                          11200 non-null  float64\n",
      " 3   y_nominal1                  11200 non-null  float64\n",
      " 4   y_nominal2                  11200 non-null  float64\n",
      " 5   fault_y1                    11200 non-null  int8   \n",
      " 6   fault_y2                    11200 non-null  int8   \n",
      " 7   y1_lag_1                    11200 non-null  float64\n",
      " 8   y2_lag_1                    11200 non-null  float64\n",
      " 9   y_nominal1_lag_1            11200 non-null  float64\n",
      " 10  y_nominal2_lag_1            11200 non-null  float64\n",
      " 11  y1_lag_2                    11200 non-null  float64\n",
      " 12  y2_lag_2                    11200 non-null  float64\n",
      " 13  y_nominal1_lag_2            11200 non-null  float64\n",
      " 14  y_nominal2_lag_2            11200 non-null  float64\n",
      " 15  y1_rolling_mean_5           11200 non-null  float64\n",
      " 16  y2_rolling_mean_5           11200 non-null  float64\n",
      " 17  y_nominal1_rolling_mean_5   11200 non-null  float64\n",
      " 18  y_nominal2_rolling_mean_5   11200 non-null  float64\n",
      " 19  y1_rolling_mean_10          11200 non-null  float64\n",
      " 20  y2_rolling_mean_10          11200 non-null  float64\n",
      " 21  y_nominal1_rolling_mean_10  11200 non-null  float64\n",
      " 22  y_nominal2_rolling_mean_10  11200 non-null  float64\n",
      " 23  Vy1                         11200 non-null  float64\n",
      " 24  Vy2                         11200 non-null  float64\n",
      " 25  Vy_nominal1                 11200 non-null  float64\n",
      " 26  Vy_nominal2                 11200 non-null  float64\n",
      " 27  Ay1                         11200 non-null  float64\n",
      " 28  Ay2                         11200 non-null  float64\n",
      " 29  Ay_nominal1                 11200 non-null  float64\n",
      " 30  Ay_nominal2                 11200 non-null  float64\n",
      "dtypes: float64(29), int8(2)\n",
      "memory usage: 2.5 MB\n"
     ]
    }
   ],
   "source": [
    "all_data.info()"
   ]
  },
  {
   "cell_type": "code",
   "execution_count": 57,
   "metadata": {},
   "outputs": [
    {
     "data": {
      "image/png": "[encoded data removed]",
      "text/plain": [
       "<Figure size 1000x1000 with 2 Axes>"
      ]
     },
     "metadata": {},
     "output_type": "display_data"
    }
   ],
   "source": [
    "def _heatmap(df):\n",
    "  df_features = df.drop(['fault_y1', 'fault_y2'], axis = 1)\n",
    "  cor = df_features.corr()\n",
    "  plt.figure(figsize = (10, 10))\n",
    "  sns.heatmap(cor)\n",
    "  plt.show\n",
    "  del df_features\n",
    "  \n",
    "_heatmap(all_data)"
   ]
  },
  {
   "cell_type": "code",
   "execution_count": 58,
   "metadata": {},
   "outputs": [
    {
     "data": {
      "text/html": [
       "<div>\n",
       "<style scoped>\n",
       "    .dataframe tbody tr th:only-of-type {\n",
       "        vertical-align: middle;\n",
       "    }\n",
       "\n",
       "    .dataframe tbody tr th {\n",
       "        vertical-align: top;\n",
       "    }\n",
       "\n",
       "    .dataframe thead th {\n",
       "        text-align: right;\n",
       "    }\n",
       "</style>\n",
       "<table border=\"1\" class=\"dataframe\">\n",
       "  <thead>\n",
       "    <tr style=\"text-align: right;\">\n",
       "      <th></th>\n",
       "      <th>u1</th>\n",
       "      <th>y1</th>\n",
       "      <th>y2</th>\n",
       "      <th>y_nominal1</th>\n",
       "      <th>y_nominal2</th>\n",
       "      <th>fault_y1</th>\n",
       "      <th>fault_y2</th>\n",
       "      <th>y1_lag_1</th>\n",
       "      <th>y2_lag_1</th>\n",
       "      <th>y_nominal1_lag_1</th>\n",
       "      <th>...</th>\n",
       "      <th>y_nominal1_rolling_mean_10</th>\n",
       "      <th>y_nominal2_rolling_mean_10</th>\n",
       "      <th>Vy1</th>\n",
       "      <th>Vy2</th>\n",
       "      <th>Vy_nominal1</th>\n",
       "      <th>Vy_nominal2</th>\n",
       "      <th>Ay1</th>\n",
       "      <th>Ay2</th>\n",
       "      <th>Ay_nominal1</th>\n",
       "      <th>Ay_nominal2</th>\n",
       "    </tr>\n",
       "  </thead>\n",
       "  <tbody>\n",
       "    <tr>\n",
       "      <th>count</th>\n",
       "      <td>11200.000000</td>\n",
       "      <td>11200.000000</td>\n",
       "      <td>11200.000000</td>\n",
       "      <td>11200.000000</td>\n",
       "      <td>11200.000000</td>\n",
       "      <td>11200.000000</td>\n",
       "      <td>11200.000000</td>\n",
       "      <td>11200.000000</td>\n",
       "      <td>11200.000000</td>\n",
       "      <td>11200.000000</td>\n",
       "      <td>...</td>\n",
       "      <td>11200.000000</td>\n",
       "      <td>11200.000000</td>\n",
       "      <td>11200.000000</td>\n",
       "      <td>11200.000000</td>\n",
       "      <td>1.120000e+04</td>\n",
       "      <td>1.120000e+04</td>\n",
       "      <td>11200.000000</td>\n",
       "      <td>11200.000000</td>\n",
       "      <td>11200.000000</td>\n",
       "      <td>1.120000e+04</td>\n",
       "    </tr>\n",
       "    <tr>\n",
       "      <th>mean</th>\n",
       "      <td>-0.028475</td>\n",
       "      <td>0.022856</td>\n",
       "      <td>-0.130287</td>\n",
       "      <td>-0.084243</td>\n",
       "      <td>-0.084090</td>\n",
       "      <td>0.398036</td>\n",
       "      <td>0.361071</td>\n",
       "      <td>0.024257</td>\n",
       "      <td>-0.129914</td>\n",
       "      <td>-0.084018</td>\n",
       "      <td>...</td>\n",
       "      <td>-0.084251</td>\n",
       "      <td>-0.083814</td>\n",
       "      <td>-0.001401</td>\n",
       "      <td>-0.000373</td>\n",
       "      <td>-2.247097e-04</td>\n",
       "      <td>-2.617901e-05</td>\n",
       "      <td>-0.001784</td>\n",
       "      <td>0.001071</td>\n",
       "      <td>-0.000514</td>\n",
       "      <td>1.062971e-04</td>\n",
       "    </tr>\n",
       "    <tr>\n",
       "      <th>std</th>\n",
       "      <td>0.243335</td>\n",
       "      <td>1.597009</td>\n",
       "      <td>1.670187</td>\n",
       "      <td>0.626377</td>\n",
       "      <td>0.626163</td>\n",
       "      <td>0.873842</td>\n",
       "      <td>0.841901</td>\n",
       "      <td>1.584831</td>\n",
       "      <td>1.655662</td>\n",
       "      <td>0.626477</td>\n",
       "      <td>...</td>\n",
       "      <td>0.592302</td>\n",
       "      <td>0.595454</td>\n",
       "      <td>0.504388</td>\n",
       "      <td>0.541272</td>\n",
       "      <td>2.169066e-01</td>\n",
       "      <td>2.169281e-01</td>\n",
       "      <td>0.726994</td>\n",
       "      <td>0.805013</td>\n",
       "      <td>0.336246</td>\n",
       "      <td>3.359682e-01</td>\n",
       "    </tr>\n",
       "    <tr>\n",
       "      <th>min</th>\n",
       "      <td>-0.497757</td>\n",
       "      <td>-7.880744</td>\n",
       "      <td>-9.678349</td>\n",
       "      <td>-1.444806</td>\n",
       "      <td>-1.444806</td>\n",
       "      <td>0.000000</td>\n",
       "      <td>0.000000</td>\n",
       "      <td>-7.880744</td>\n",
       "      <td>-9.678349</td>\n",
       "      <td>-1.444806</td>\n",
       "      <td>...</td>\n",
       "      <td>-1.444806</td>\n",
       "      <td>-1.444806</td>\n",
       "      <td>-9.848734</td>\n",
       "      <td>-9.985708</td>\n",
       "      <td>-1.018831e+00</td>\n",
       "      <td>-1.017725e+00</td>\n",
       "      <td>-9.850683</td>\n",
       "      <td>-9.985708</td>\n",
       "      <td>-1.655907</td>\n",
       "      <td>-1.656808e+00</td>\n",
       "    </tr>\n",
       "    <tr>\n",
       "      <th>25%</th>\n",
       "      <td>-0.209246</td>\n",
       "      <td>-0.452468</td>\n",
       "      <td>-0.505974</td>\n",
       "      <td>-0.407136</td>\n",
       "      <td>-0.407136</td>\n",
       "      <td>0.000000</td>\n",
       "      <td>0.000000</td>\n",
       "      <td>-0.451242</td>\n",
       "      <td>-0.504040</td>\n",
       "      <td>-0.407136</td>\n",
       "      <td>...</td>\n",
       "      <td>-0.326837</td>\n",
       "      <td>-0.326837</td>\n",
       "      <td>-0.064179</td>\n",
       "      <td>-0.122567</td>\n",
       "      <td>-1.538826e-04</td>\n",
       "      <td>-5.829303e-04</td>\n",
       "      <td>-0.111263</td>\n",
       "      <td>-0.201267</td>\n",
       "      <td>-0.000886</td>\n",
       "      <td>-4.395373e-13</td>\n",
       "    </tr>\n",
       "    <tr>\n",
       "      <th>50%</th>\n",
       "      <td>-0.019545</td>\n",
       "      <td>-0.025425</td>\n",
       "      <td>-0.047165</td>\n",
       "      <td>-0.021658</td>\n",
       "      <td>-0.022765</td>\n",
       "      <td>0.000000</td>\n",
       "      <td>0.000000</td>\n",
       "      <td>-0.024380</td>\n",
       "      <td>-0.047560</td>\n",
       "      <td>-0.021658</td>\n",
       "      <td>...</td>\n",
       "      <td>-0.002112</td>\n",
       "      <td>-0.001914</td>\n",
       "      <td>0.000000</td>\n",
       "      <td>0.000000</td>\n",
       "      <td>1.665779e-12</td>\n",
       "      <td>4.440892e-16</td>\n",
       "      <td>0.000000</td>\n",
       "      <td>0.000000</td>\n",
       "      <td>0.000000</td>\n",
       "      <td>0.000000e+00</td>\n",
       "    </tr>\n",
       "    <tr>\n",
       "      <th>75%</th>\n",
       "      <td>0.151155</td>\n",
       "      <td>0.282306</td>\n",
       "      <td>0.273972</td>\n",
       "      <td>0.185532</td>\n",
       "      <td>0.180075</td>\n",
       "      <td>0.000000</td>\n",
       "      <td>0.000000</td>\n",
       "      <td>0.282306</td>\n",
       "      <td>0.271045</td>\n",
       "      <td>0.186285</td>\n",
       "      <td>...</td>\n",
       "      <td>0.022637</td>\n",
       "      <td>0.020480</td>\n",
       "      <td>0.065318</td>\n",
       "      <td>0.119681</td>\n",
       "      <td>2.141341e-05</td>\n",
       "      <td>4.959921e-13</td>\n",
       "      <td>0.110493</td>\n",
       "      <td>0.201583</td>\n",
       "      <td>0.000030</td>\n",
       "      <td>1.527948e-04</td>\n",
       "    </tr>\n",
       "    <tr>\n",
       "      <th>max</th>\n",
       "      <td>0.496916</td>\n",
       "      <td>8.728162</td>\n",
       "      <td>9.327207</td>\n",
       "      <td>1.429651</td>\n",
       "      <td>1.429651</td>\n",
       "      <td>3.000000</td>\n",
       "      <td>3.000000</td>\n",
       "      <td>8.728162</td>\n",
       "      <td>9.327207</td>\n",
       "      <td>1.429651</td>\n",
       "      <td>...</td>\n",
       "      <td>1.429651</td>\n",
       "      <td>1.429651</td>\n",
       "      <td>9.850683</td>\n",
       "      <td>9.858131</td>\n",
       "      <td>1.021889e+00</td>\n",
       "      <td>1.022025e+00</td>\n",
       "      <td>9.891249</td>\n",
       "      <td>10.297648</td>\n",
       "      <td>1.656833</td>\n",
       "      <td>1.655833e+00</td>\n",
       "    </tr>\n",
       "  </tbody>\n",
       "</table>\n",
       "<p>8 rows × 31 columns</p>\n",
       "</div>"
      ],
      "text/plain": [
       "                 u1            y1            y2    y_nominal1    y_nominal2  \\\n",
       "count  11200.000000  11200.000000  11200.000000  11200.000000  11200.000000   \n",
       "mean      -0.028475      0.022856     -0.130287     -0.084243     -0.084090   \n",
       "std        0.243335      1.597009      1.670187      0.626377      0.626163   \n",
       "min       -0.497757     -7.880744     -9.678349     -1.444806     -1.444806   \n",
       "25%       -0.209246     -0.452468     -0.505974     -0.407136     -0.407136   \n",
       "50%       -0.019545     -0.025425     -0.047165     -0.021658     -0.022765   \n",
       "75%        0.151155      0.282306      0.273972      0.185532      0.180075   \n",
       "max        0.496916      8.728162      9.327207      1.429651      1.429651   \n",
       "\n",
       "           fault_y1      fault_y2      y1_lag_1      y2_lag_1  \\\n",
       "count  11200.000000  11200.000000  11200.000000  11200.000000   \n",
       "mean       0.398036      0.361071      0.024257     -0.129914   \n",
       "std        0.873842      0.841901      1.584831      1.655662   \n",
       "min        0.000000      0.000000     -7.880744     -9.678349   \n",
       "25%        0.000000      0.000000     -0.451242     -0.504040   \n",
       "50%        0.000000      0.000000     -0.024380     -0.047560   \n",
       "75%        0.000000      0.000000      0.282306      0.271045   \n",
       "max        3.000000      3.000000      8.728162      9.327207   \n",
       "\n",
       "       y_nominal1_lag_1  ...  y_nominal1_rolling_mean_10  \\\n",
       "count      11200.000000  ...                11200.000000   \n",
       "mean          -0.084018  ...                   -0.084251   \n",
       "std            0.626477  ...                    0.592302   \n",
       "min           -1.444806  ...                   -1.444806   \n",
       "25%           -0.407136  ...                   -0.326837   \n",
       "50%           -0.021658  ...                   -0.002112   \n",
       "75%            0.186285  ...                    0.022637   \n",
       "max            1.429651  ...                    1.429651   \n",
       "\n",
       "       y_nominal2_rolling_mean_10           Vy1           Vy2   Vy_nominal1  \\\n",
       "count                11200.000000  11200.000000  11200.000000  1.120000e+04   \n",
       "mean                    -0.083814     -0.001401     -0.000373 -2.247097e-04   \n",
       "std                      0.595454      0.504388      0.541272  2.169066e-01   \n",
       "min                     -1.444806     -9.848734     -9.985708 -1.018831e+00   \n",
       "25%                     -0.326837     -0.064179     -0.122567 -1.538826e-04   \n",
       "50%                     -0.001914      0.000000      0.000000  1.665779e-12   \n",
       "75%                      0.020480      0.065318      0.119681  2.141341e-05   \n",
       "max                      1.429651      9.850683      9.858131  1.021889e+00   \n",
       "\n",
       "        Vy_nominal2           Ay1           Ay2   Ay_nominal1   Ay_nominal2  \n",
       "count  1.120000e+04  11200.000000  11200.000000  11200.000000  1.120000e+04  \n",
       "mean  -2.617901e-05     -0.001784      0.001071     -0.000514  1.062971e-04  \n",
       "std    2.169281e-01      0.726994      0.805013      0.336246  3.359682e-01  \n",
       "min   -1.017725e+00     -9.850683     -9.985708     -1.655907 -1.656808e+00  \n",
       "25%   -5.829303e-04     -0.111263     -0.201267     -0.000886 -4.395373e-13  \n",
       "50%    4.440892e-16      0.000000      0.000000      0.000000  0.000000e+00  \n",
       "75%    4.959921e-13      0.110493      0.201583      0.000030  1.527948e-04  \n",
       "max    1.022025e+00      9.891249     10.297648      1.656833  1.655833e+00  \n",
       "\n",
       "[8 rows x 31 columns]"
      ]
     },
     "execution_count": 58,
     "metadata": {},
     "output_type": "execute_result"
    }
   ],
   "source": [
    "all_data.describe()"
   ]
  },
  {
   "attachments": {},
   "cell_type": "markdown",
   "metadata": {},
   "source": [
    "## Dataset preparation"
   ]
  },
  {
   "cell_type": "code",
   "execution_count": 59,
   "metadata": {},
   "outputs": [
    {
     "data": {
      "text/plain": [
       "(40, 31)"
      ]
     },
     "execution_count": 59,
     "metadata": {},
     "output_type": "execute_result"
    }
   ],
   "source": [
    "augmented_data[0].shape"
   ]
  },
  {
   "cell_type": "code",
   "execution_count": 18,
   "metadata": {},
   "outputs": [
    {
     "data": {
      "text/plain": [
       "array(['u1', 'y1', 'y2', 'y_nominal1', 'y_nominal2', 'y1_lag_1',\n",
       "       'y2_lag_1', 'y_nominal1_lag_1', 'y_nominal2_lag_1', 'y1_lag_2',\n",
       "       'y2_lag_2', 'y_nominal1_lag_2', 'y_nominal2_lag_2',\n",
       "       'y1_rolling_mean_5', 'y2_rolling_mean_5',\n",
       "       'y_nominal1_rolling_mean_5', 'y_nominal2_rolling_mean_5',\n",
       "       'y1_rolling_mean_10', 'y2_rolling_mean_10',\n",
       "       'y_nominal1_rolling_mean_10', 'y_nominal2_rolling_mean_10', 'Vy1',\n",
       "       'Vy2', 'Vy_nominal1', 'Vy_nominal2', 'Ay1', 'Ay2', 'Ay_nominal1',\n",
       "       'Ay_nominal2'], dtype=object)"
      ]
     },
     "execution_count": 18,
     "metadata": {},
     "output_type": "execute_result"
    }
   ],
   "source": [
    "from sklearn.preprocessing import StandardScaler\n",
    "scaler = StandardScaler()\n",
    "scaler.fit(all_data.drop(['fault_y1', 'fault_y2'], axis=1))\n",
    "scaler.feature_names_in_"
   ]
  },
  {
   "cell_type": "markdown",
   "metadata": {},
   "source": [
    "Prepare sliding window of data with length 'lag'. Fault occured if fault signal exist larger than half of window."
   ]
  },
  {
   "cell_type": "code",
   "execution_count": 62,
   "metadata": {},
   "outputs": [
    {
     "name": "stdout",
     "output_type": "stream",
     "text": [
      "(8400, 11, 29) (8400, 2)\n"
     ]
    }
   ],
   "source": [
    "import numpy as np\n",
    "\n",
    "X, y = [], []\n",
    "\n",
    "lag = 10\n",
    "k, total = 0, len(augmented_data)\n",
    "for single_data in augmented_data:\n",
    "    for i in range(lag, single_data.shape[0]):\n",
    "        df = single_data.loc[(i-lag):i, :]\n",
    "        sample_X = df.drop(['fault_y1', 'fault_y2'], axis=1)\n",
    "        sample_X = scaler.transform(sample_X)\n",
    "        sample_y = np.array(df[['fault_y1', 'fault_y2']])\n",
    "        sample_y = np.array([(np.sum(sample_y[:, 0])>10) *1, \n",
    "                             (np.sum(sample_y[:, 1])>10) *1\n",
    "                             ], dtype=np.int8)\n",
    "        X.append(np.array(sample_X))\n",
    "        y.append(np.array(sample_y))\n",
    "    k += 1\n",
    "\n",
    "X, y = np.array(X), np.array(y)\n",
    "print(X.shape, y.shape)"
   ]
  },
  {
   "cell_type": "code",
   "execution_count": 63,
   "metadata": {},
   "outputs": [
    {
     "data": {
      "text/plain": [
       "[5156, 1506, 1738, 0]"
      ]
     },
     "execution_count": 63,
     "metadata": {},
     "output_type": "execute_result"
    }
   ],
   "source": [
    "counts = [0, 0, 0, 0]\n",
    "for result in y:\n",
    "    if np.array_equal(result, [0, 0]):\n",
    "        counts[0] += 1\n",
    "    elif np.array_equal(result, [0, 1]):\n",
    "        counts[1] += 1\n",
    "    elif np.array_equal(result, [1, 0]):\n",
    "        counts[2] += 1\n",
    "    else:\n",
    "        counts[3] += 1\n",
    "counts"
   ]
  },
  {
   "cell_type": "code",
   "execution_count": 64,
   "metadata": {},
   "outputs": [],
   "source": [
    "X.tofile('X_data.csv', sep=',')\n",
    "y.tofile('y_data.csv', sep=',')"
   ]
  },
  {
   "cell_type": "code",
   "execution_count": 3,
   "metadata": {},
   "outputs": [
    {
     "data": {
      "text/plain": [
       "((8400, 11, 29), (8400, 2))"
      ]
     },
     "execution_count": 3,
     "metadata": {},
     "output_type": "execute_result"
    }
   ],
   "source": [
    "X = np.fromfile('X_data.csv', dtype=float, sep=',')\n",
    "y = np.fromfile('y_data.csv', dtype=np.int8, sep=',')\n",
    "X = X.reshape((8400, 11, 29))\n",
    "y = y.reshape((8400, 2))\n",
    "X.shape, y.shape"
   ]
  },
  {
   "cell_type": "code",
   "execution_count": 4,
   "metadata": {},
   "outputs": [],
   "source": [
    "from sklearn.model_selection import train_test_split\n",
    "\n",
    "X_train, X_test, y_train, y_test = train_test_split(X, y, test_size=0.25, random_state=42)"
   ]
  },
  {
   "cell_type": "markdown",
   "metadata": {},
   "source": [
    "## Linear models\n",
    "### Ridge"
   ]
  },
  {
   "cell_type": "code",
   "execution_count": 5,
   "metadata": {},
   "outputs": [
    {
     "data": {
      "text/plain": [
       "((6300, 319), (2100, 319))"
      ]
     },
     "execution_count": 5,
     "metadata": {},
     "output_type": "execute_result"
    }
   ],
   "source": [
    "from sklearn.linear_model import RidgeClassifier\n",
    "from sklearn.metrics import classification_report, confusion_matrix\n",
    "\n",
    "def reshape_X_3d_to_2d(data):\n",
    "    samples, steps, n_features = data.shape\n",
    "    return data.reshape(samples, steps * n_features)\n",
    "\n",
    "X_train2d, X_test2d = reshape_X_3d_to_2d(X_train), reshape_X_3d_to_2d(X_test)\n",
    "X_train2d.shape, X_test2d.shape"
   ]
  },
  {
   "cell_type": "code",
   "execution_count": 6,
   "metadata": {},
   "outputs": [
    {
     "name": "stdout",
     "output_type": "stream",
     "text": [
      "(array([0., 1., 2.]), array([3877, 1104, 1319], dtype=int64))\n",
      "(6300,) (2100,)\n"
     ]
    }
   ],
   "source": [
    "def reshape_y_2d_to_1d(data):\n",
    "    data_new = np.zeros(data.shape[0])\n",
    "    for i in range(data.shape[0]):\n",
    "        if np.array_equal(data[i], [0, 0]):\n",
    "            data_new[i] = 0\n",
    "        elif np.array_equal(data[i], [0, 1]):\n",
    "            data_new[i] = 1\n",
    "        elif np.array_equal(data[i], [1, 0]):\n",
    "            data_new[i] = 2\n",
    "        else:\n",
    "            data_new[i] = -1\n",
    "    return data_new\n",
    "\n",
    "y_train1d, y_test_1d = reshape_y_2d_to_1d(y_train), reshape_y_2d_to_1d(y_test)\n",
    "print(np.unique(y_train1d, return_counts=True))\n",
    "print(y_train1d.shape, y_test_1d.shape)"
   ]
  },
  {
   "cell_type": "code",
   "execution_count": 69,
   "metadata": {},
   "outputs": [
    {
     "data": {
      "text/html": [
       "<style>#sk-container-id-3 {color: black;}#sk-container-id-3 pre{padding: 0;}#sk-container-id-3 div.sk-toggleable {background-color: white;}#sk-container-id-3 label.sk-toggleable__label {cursor: pointer;display: block;width: 100%;margin-bottom: 0;padding: 0.3em;box-sizing: border-box;text-align: center;}#sk-container-id-3 label.sk-toggleable__label-arrow:before {content: \"▸\";float: left;margin-right: 0.25em;color: #696969;}#sk-container-id-3 label.sk-toggleable__label-arrow:hover:before {color: black;}#sk-container-id-3 div.sk-estimator:hover label.sk-toggleable__label-arrow:before {color: black;}#sk-container-id-3 div.sk-toggleable__content {max-height: 0;max-width: 0;overflow: hidden;text-align: left;background-color: #f0f8ff;}#sk-container-id-3 div.sk-toggleable__content pre {margin: 0.2em;color: black;border-radius: 0.25em;background-color: #f0f8ff;}#sk-container-id-3 input.sk-toggleable__control:checked~div.sk-toggleable__content {max-height: 200px;max-width: 100%;overflow: auto;}#sk-container-id-3 input.sk-toggleable__control:checked~label.sk-toggleable__label-arrow:before {content: \"▾\";}#sk-container-id-3 div.sk-estimator input.sk-toggleable__control:checked~label.sk-toggleable__label {background-color: #d4ebff;}#sk-container-id-3 div.sk-label input.sk-toggleable__control:checked~label.sk-toggleable__label {background-color: #d4ebff;}#sk-container-id-3 input.sk-hidden--visually {border: 0;clip: rect(1px 1px 1px 1px);clip: rect(1px, 1px, 1px, 1px);height: 1px;margin: -1px;overflow: hidden;padding: 0;position: absolute;width: 1px;}#sk-container-id-3 div.sk-estimator {font-family: monospace;background-color: #f0f8ff;border: 1px dotted black;border-radius: 0.25em;box-sizing: border-box;margin-bottom: 0.5em;}#sk-container-id-3 div.sk-estimator:hover {background-color: #d4ebff;}#sk-container-id-3 div.sk-parallel-item::after {content: \"\";width: 100%;border-bottom: 1px solid gray;flex-grow: 1;}#sk-container-id-3 div.sk-label:hover label.sk-toggleable__label {background-color: #d4ebff;}#sk-container-id-3 div.sk-serial::before {content: \"\";position: absolute;border-left: 1px solid gray;box-sizing: border-box;top: 0;bottom: 0;left: 50%;z-index: 0;}#sk-container-id-3 div.sk-serial {display: flex;flex-direction: column;align-items: center;background-color: white;padding-right: 0.2em;padding-left: 0.2em;position: relative;}#sk-container-id-3 div.sk-item {position: relative;z-index: 1;}#sk-container-id-3 div.sk-parallel {display: flex;align-items: stretch;justify-content: center;background-color: white;position: relative;}#sk-container-id-3 div.sk-item::before, #sk-container-id-3 div.sk-parallel-item::before {content: \"\";position: absolute;border-left: 1px solid gray;box-sizing: border-box;top: 0;bottom: 0;left: 50%;z-index: -1;}#sk-container-id-3 div.sk-parallel-item {display: flex;flex-direction: column;z-index: 1;position: relative;background-color: white;}#sk-container-id-3 div.sk-parallel-item:first-child::after {align-self: flex-end;width: 50%;}#sk-container-id-3 div.sk-parallel-item:last-child::after {align-self: flex-start;width: 50%;}#sk-container-id-3 div.sk-parallel-item:only-child::after {width: 0;}#sk-container-id-3 div.sk-dashed-wrapped {border: 1px dashed gray;margin: 0 0.4em 0.5em 0.4em;box-sizing: border-box;padding-bottom: 0.4em;background-color: white;}#sk-container-id-3 div.sk-label label {font-family: monospace;font-weight: bold;display: inline-block;line-height: 1.2em;}#sk-container-id-3 div.sk-label-container {text-align: center;}#sk-container-id-3 div.sk-container {/* jupyter's `normalize.less` sets `[hidden] { display: none; }` but bootstrap.min.css set `[hidden] { display: none !important; }` so we also need the `!important` here to be able to override the default hidden behavior on the sphinx rendered scikit-learn.org. See: https://github.com/scikit-learn/scikit-learn/issues/21755 */display: inline-block !important;position: relative;}#sk-container-id-3 div.sk-text-repr-fallback {display: none;}</style><div id=\"sk-container-id-3\" class=\"sk-top-container\"><div class=\"sk-text-repr-fallback\"><pre>RidgeClassifier()</pre><b>In a Jupyter environment, please rerun this cell to show the HTML representation or trust the notebook. <br />On GitHub, the HTML representation is unable to render, please try loading this page with nbviewer.org.</b></div><div class=\"sk-container\" hidden><div class=\"sk-item\"><div class=\"sk-estimator sk-toggleable\"><input class=\"sk-toggleable__control sk-hidden--visually\" id=\"sk-estimator-id-3\" type=\"checkbox\" checked><label for=\"sk-estimator-id-3\" class=\"sk-toggleable__label sk-toggleable__label-arrow\">RidgeClassifier</label><div class=\"sk-toggleable__content\"><pre>RidgeClassifier()</pre></div></div></div></div></div>"
      ],
      "text/plain": [
       "RidgeClassifier()"
      ]
     },
     "execution_count": 69,
     "metadata": {},
     "output_type": "execute_result"
    }
   ],
   "source": [
    "ridge_clf = RidgeClassifier()\n",
    "ridge_clf.fit(X_train2d, y_train1d) "
   ]
  },
  {
   "cell_type": "code",
   "execution_count": 70,
   "metadata": {},
   "outputs": [
    {
     "data": {
      "text/plain": [
       "array([[3873,    3,    1],\n",
       "       [1087,   17,    0],\n",
       "       [1144,    0,  175]], dtype=int64)"
      ]
     },
     "execution_count": 70,
     "metadata": {},
     "output_type": "execute_result"
    }
   ],
   "source": [
    "predictions = ridge_clf.predict(X_train2d)\n",
    "confusion_matrix(y_train1d, predictions)"
   ]
  },
  {
   "cell_type": "code",
   "execution_count": 71,
   "metadata": {},
   "outputs": [
    {
     "data": {
      "text/plain": [
       "array([[3873,    3,    1],\n",
       "       [1087,   17,    0],\n",
       "       [1144,    0,  175]], dtype=int64)"
      ]
     },
     "execution_count": 71,
     "metadata": {},
     "output_type": "execute_result"
    }
   ],
   "source": [
    "from sklearn.linear_model import RidgeClassifierCV\n",
    "\n",
    "ridge_clf = RidgeClassifierCV(alphas=[1e-3, 1e-2, 1e-1, 1]).fit(X_train2d, y_train1d) \n",
    "predictions = ridge_clf.predict(X_train2d)\n",
    "confusion_matrix(y_train1d, predictions)"
   ]
  },
  {
   "cell_type": "markdown",
   "metadata": {},
   "source": [
    "### Lasso"
   ]
  },
  {
   "cell_type": "code",
   "execution_count": 72,
   "metadata": {},
   "outputs": [
    {
     "name": "stderr",
     "output_type": "stream",
     "text": [
      "c:\\python311\\Lib\\site-packages\\sklearn\\linear_model\\_sag.py:350: ConvergenceWarning: The max_iter was reached which means the coef_ did not converge\n",
      "  warnings.warn(\n",
      "c:\\python311\\Lib\\site-packages\\sklearn\\linear_model\\_sag.py:350: ConvergenceWarning: The max_iter was reached which means the coef_ did not converge\n",
      "  warnings.warn(\n",
      "c:\\python311\\Lib\\site-packages\\sklearn\\linear_model\\_sag.py:350: ConvergenceWarning: The max_iter was reached which means the coef_ did not converge\n",
      "  warnings.warn(\n",
      "c:\\python311\\Lib\\site-packages\\sklearn\\linear_model\\_sag.py:350: ConvergenceWarning: The max_iter was reached which means the coef_ did not converge\n",
      "  warnings.warn(\n",
      "c:\\python311\\Lib\\site-packages\\sklearn\\linear_model\\_sag.py:350: ConvergenceWarning: The max_iter was reached which means the coef_ did not converge\n",
      "  warnings.warn(\n",
      "c:\\python311\\Lib\\site-packages\\sklearn\\linear_model\\_sag.py:350: ConvergenceWarning: The max_iter was reached which means the coef_ did not converge\n",
      "  warnings.warn(\n",
      "c:\\python311\\Lib\\site-packages\\sklearn\\linear_model\\_sag.py:350: ConvergenceWarning: The max_iter was reached which means the coef_ did not converge\n",
      "  warnings.warn(\n",
      "c:\\python311\\Lib\\site-packages\\sklearn\\linear_model\\_sag.py:350: ConvergenceWarning: The max_iter was reached which means the coef_ did not converge\n",
      "  warnings.warn(\n",
      "c:\\python311\\Lib\\site-packages\\sklearn\\linear_model\\_sag.py:350: ConvergenceWarning: The max_iter was reached which means the coef_ did not converge\n",
      "  warnings.warn(\n",
      "c:\\python311\\Lib\\site-packages\\sklearn\\linear_model\\_sag.py:350: ConvergenceWarning: The max_iter was reached which means the coef_ did not converge\n",
      "  warnings.warn(\n",
      "c:\\python311\\Lib\\site-packages\\sklearn\\linear_model\\_sag.py:350: ConvergenceWarning: The max_iter was reached which means the coef_ did not converge\n",
      "  warnings.warn(\n",
      "c:\\python311\\Lib\\site-packages\\sklearn\\linear_model\\_sag.py:350: ConvergenceWarning: The max_iter was reached which means the coef_ did not converge\n",
      "  warnings.warn(\n",
      "c:\\python311\\Lib\\site-packages\\sklearn\\linear_model\\_sag.py:350: ConvergenceWarning: The max_iter was reached which means the coef_ did not converge\n",
      "  warnings.warn(\n",
      "c:\\python311\\Lib\\site-packages\\sklearn\\linear_model\\_sag.py:350: ConvergenceWarning: The max_iter was reached which means the coef_ did not converge\n",
      "  warnings.warn(\n",
      "c:\\python311\\Lib\\site-packages\\sklearn\\linear_model\\_sag.py:350: ConvergenceWarning: The max_iter was reached which means the coef_ did not converge\n",
      "  warnings.warn(\n",
      "c:\\python311\\Lib\\site-packages\\sklearn\\linear_model\\_sag.py:350: ConvergenceWarning: The max_iter was reached which means the coef_ did not converge\n",
      "  warnings.warn(\n"
     ]
    },
    {
     "data": {
      "text/plain": [
       "array([[3877,    0,    0],\n",
       "       [1091,   13,    0],\n",
       "       [1126,    0,  193]], dtype=int64)"
      ]
     },
     "execution_count": 72,
     "metadata": {},
     "output_type": "execute_result"
    }
   ],
   "source": [
    "from sklearn.linear_model import LogisticRegressionCV\n",
    "\n",
    "lasso_clf = LogisticRegressionCV(penalty='l1', Cs=[1e-3, 1e-2, 1e-1, 1], solver='saga')\n",
    "lasso_clf.fit(X_train2d, y_train1d) \n",
    "predictions = lasso_clf.predict(X_train2d)\n",
    "confusion_matrix(y_train1d, predictions)"
   ]
  },
  {
   "cell_type": "markdown",
   "metadata": {},
   "source": [
    "## Elastic net"
   ]
  },
  {
   "cell_type": "code",
   "execution_count": 73,
   "metadata": {},
   "outputs": [
    {
     "name": "stderr",
     "output_type": "stream",
     "text": [
      "c:\\python311\\Lib\\site-packages\\sklearn\\linear_model\\_sag.py:350: ConvergenceWarning: The max_iter was reached which means the coef_ did not converge\n",
      "  warnings.warn(\n",
      "c:\\python311\\Lib\\site-packages\\sklearn\\linear_model\\_sag.py:350: ConvergenceWarning: The max_iter was reached which means the coef_ did not converge\n",
      "  warnings.warn(\n",
      "c:\\python311\\Lib\\site-packages\\sklearn\\linear_model\\_sag.py:350: ConvergenceWarning: The max_iter was reached which means the coef_ did not converge\n",
      "  warnings.warn(\n",
      "c:\\python311\\Lib\\site-packages\\sklearn\\linear_model\\_sag.py:350: ConvergenceWarning: The max_iter was reached which means the coef_ did not converge\n",
      "  warnings.warn(\n",
      "c:\\python311\\Lib\\site-packages\\sklearn\\linear_model\\_sag.py:350: ConvergenceWarning: The max_iter was reached which means the coef_ did not converge\n",
      "  warnings.warn(\n",
      "c:\\python311\\Lib\\site-packages\\sklearn\\linear_model\\_sag.py:350: ConvergenceWarning: The max_iter was reached which means the coef_ did not converge\n",
      "  warnings.warn(\n",
      "c:\\python311\\Lib\\site-packages\\sklearn\\linear_model\\_sag.py:350: ConvergenceWarning: The max_iter was reached which means the coef_ did not converge\n",
      "  warnings.warn(\n",
      "c:\\python311\\Lib\\site-packages\\sklearn\\linear_model\\_sag.py:350: ConvergenceWarning: The max_iter was reached which means the coef_ did not converge\n",
      "  warnings.warn(\n",
      "c:\\python311\\Lib\\site-packages\\sklearn\\linear_model\\_sag.py:350: ConvergenceWarning: The max_iter was reached which means the coef_ did not converge\n",
      "  warnings.warn(\n",
      "c:\\python311\\Lib\\site-packages\\sklearn\\linear_model\\_sag.py:350: ConvergenceWarning: The max_iter was reached which means the coef_ did not converge\n",
      "  warnings.warn(\n",
      "c:\\python311\\Lib\\site-packages\\sklearn\\linear_model\\_sag.py:350: ConvergenceWarning: The max_iter was reached which means the coef_ did not converge\n",
      "  warnings.warn(\n",
      "c:\\python311\\Lib\\site-packages\\sklearn\\linear_model\\_sag.py:350: ConvergenceWarning: The max_iter was reached which means the coef_ did not converge\n",
      "  warnings.warn(\n",
      "c:\\python311\\Lib\\site-packages\\sklearn\\linear_model\\_sag.py:350: ConvergenceWarning: The max_iter was reached which means the coef_ did not converge\n",
      "  warnings.warn(\n",
      "c:\\python311\\Lib\\site-packages\\sklearn\\linear_model\\_sag.py:350: ConvergenceWarning: The max_iter was reached which means the coef_ did not converge\n",
      "  warnings.warn(\n",
      "c:\\python311\\Lib\\site-packages\\sklearn\\linear_model\\_sag.py:350: ConvergenceWarning: The max_iter was reached which means the coef_ did not converge\n",
      "  warnings.warn(\n",
      "c:\\python311\\Lib\\site-packages\\sklearn\\linear_model\\_sag.py:350: ConvergenceWarning: The max_iter was reached which means the coef_ did not converge\n",
      "  warnings.warn(\n",
      "c:\\python311\\Lib\\site-packages\\sklearn\\linear_model\\_sag.py:350: ConvergenceWarning: The max_iter was reached which means the coef_ did not converge\n",
      "  warnings.warn(\n",
      "c:\\python311\\Lib\\site-packages\\sklearn\\linear_model\\_sag.py:350: ConvergenceWarning: The max_iter was reached which means the coef_ did not converge\n",
      "  warnings.warn(\n",
      "c:\\python311\\Lib\\site-packages\\sklearn\\linear_model\\_sag.py:350: ConvergenceWarning: The max_iter was reached which means the coef_ did not converge\n",
      "  warnings.warn(\n",
      "c:\\python311\\Lib\\site-packages\\sklearn\\linear_model\\_sag.py:350: ConvergenceWarning: The max_iter was reached which means the coef_ did not converge\n",
      "  warnings.warn(\n",
      "c:\\python311\\Lib\\site-packages\\sklearn\\linear_model\\_sag.py:350: ConvergenceWarning: The max_iter was reached which means the coef_ did not converge\n",
      "  warnings.warn(\n",
      "c:\\python311\\Lib\\site-packages\\sklearn\\linear_model\\_sag.py:350: ConvergenceWarning: The max_iter was reached which means the coef_ did not converge\n",
      "  warnings.warn(\n",
      "c:\\python311\\Lib\\site-packages\\sklearn\\linear_model\\_sag.py:350: ConvergenceWarning: The max_iter was reached which means the coef_ did not converge\n",
      "  warnings.warn(\n",
      "c:\\python311\\Lib\\site-packages\\sklearn\\linear_model\\_sag.py:350: ConvergenceWarning: The max_iter was reached which means the coef_ did not converge\n",
      "  warnings.warn(\n",
      "c:\\python311\\Lib\\site-packages\\sklearn\\linear_model\\_sag.py:350: ConvergenceWarning: The max_iter was reached which means the coef_ did not converge\n",
      "  warnings.warn(\n",
      "c:\\python311\\Lib\\site-packages\\sklearn\\linear_model\\_sag.py:350: ConvergenceWarning: The max_iter was reached which means the coef_ did not converge\n",
      "  warnings.warn(\n",
      "c:\\python311\\Lib\\site-packages\\sklearn\\linear_model\\_sag.py:350: ConvergenceWarning: The max_iter was reached which means the coef_ did not converge\n",
      "  warnings.warn(\n",
      "c:\\python311\\Lib\\site-packages\\sklearn\\linear_model\\_sag.py:350: ConvergenceWarning: The max_iter was reached which means the coef_ did not converge\n",
      "  warnings.warn(\n",
      "c:\\python311\\Lib\\site-packages\\sklearn\\linear_model\\_sag.py:350: ConvergenceWarning: The max_iter was reached which means the coef_ did not converge\n",
      "  warnings.warn(\n",
      "c:\\python311\\Lib\\site-packages\\sklearn\\linear_model\\_sag.py:350: ConvergenceWarning: The max_iter was reached which means the coef_ did not converge\n",
      "  warnings.warn(\n",
      "c:\\python311\\Lib\\site-packages\\sklearn\\linear_model\\_sag.py:350: ConvergenceWarning: The max_iter was reached which means the coef_ did not converge\n",
      "  warnings.warn(\n",
      "c:\\python311\\Lib\\site-packages\\sklearn\\linear_model\\_sag.py:350: ConvergenceWarning: The max_iter was reached which means the coef_ did not converge\n",
      "  warnings.warn(\n",
      "c:\\python311\\Lib\\site-packages\\sklearn\\linear_model\\_sag.py:350: ConvergenceWarning: The max_iter was reached which means the coef_ did not converge\n",
      "  warnings.warn(\n",
      "c:\\python311\\Lib\\site-packages\\sklearn\\linear_model\\_sag.py:350: ConvergenceWarning: The max_iter was reached which means the coef_ did not converge\n",
      "  warnings.warn(\n",
      "c:\\python311\\Lib\\site-packages\\sklearn\\linear_model\\_sag.py:350: ConvergenceWarning: The max_iter was reached which means the coef_ did not converge\n",
      "  warnings.warn(\n",
      "c:\\python311\\Lib\\site-packages\\sklearn\\linear_model\\_sag.py:350: ConvergenceWarning: The max_iter was reached which means the coef_ did not converge\n",
      "  warnings.warn(\n",
      "c:\\python311\\Lib\\site-packages\\sklearn\\linear_model\\_sag.py:350: ConvergenceWarning: The max_iter was reached which means the coef_ did not converge\n",
      "  warnings.warn(\n",
      "c:\\python311\\Lib\\site-packages\\sklearn\\linear_model\\_sag.py:350: ConvergenceWarning: The max_iter was reached which means the coef_ did not converge\n",
      "  warnings.warn(\n",
      "c:\\python311\\Lib\\site-packages\\sklearn\\linear_model\\_sag.py:350: ConvergenceWarning: The max_iter was reached which means the coef_ did not converge\n",
      "  warnings.warn(\n",
      "c:\\python311\\Lib\\site-packages\\sklearn\\linear_model\\_sag.py:350: ConvergenceWarning: The max_iter was reached which means the coef_ did not converge\n",
      "  warnings.warn(\n",
      "c:\\python311\\Lib\\site-packages\\sklearn\\linear_model\\_sag.py:350: ConvergenceWarning: The max_iter was reached which means the coef_ did not converge\n",
      "  warnings.warn(\n",
      "c:\\python311\\Lib\\site-packages\\sklearn\\linear_model\\_sag.py:350: ConvergenceWarning: The max_iter was reached which means the coef_ did not converge\n",
      "  warnings.warn(\n",
      "c:\\python311\\Lib\\site-packages\\sklearn\\linear_model\\_sag.py:350: ConvergenceWarning: The max_iter was reached which means the coef_ did not converge\n",
      "  warnings.warn(\n",
      "c:\\python311\\Lib\\site-packages\\sklearn\\linear_model\\_sag.py:350: ConvergenceWarning: The max_iter was reached which means the coef_ did not converge\n",
      "  warnings.warn(\n",
      "c:\\python311\\Lib\\site-packages\\sklearn\\linear_model\\_sag.py:350: ConvergenceWarning: The max_iter was reached which means the coef_ did not converge\n",
      "  warnings.warn(\n",
      "c:\\python311\\Lib\\site-packages\\sklearn\\linear_model\\_sag.py:350: ConvergenceWarning: The max_iter was reached which means the coef_ did not converge\n",
      "  warnings.warn(\n",
      "c:\\python311\\Lib\\site-packages\\sklearn\\linear_model\\_sag.py:350: ConvergenceWarning: The max_iter was reached which means the coef_ did not converge\n",
      "  warnings.warn(\n",
      "c:\\python311\\Lib\\site-packages\\sklearn\\linear_model\\_sag.py:350: ConvergenceWarning: The max_iter was reached which means the coef_ did not converge\n",
      "  warnings.warn(\n"
     ]
    },
    {
     "data": {
      "text/plain": [
       "array([[3876,    1,    0],\n",
       "       [1084,   20,    0],\n",
       "       [1130,    0,  189]], dtype=int64)"
      ]
     },
     "execution_count": 73,
     "metadata": {},
     "output_type": "execute_result"
    }
   ],
   "source": [
    "from sklearn.linear_model import LogisticRegressionCV\n",
    "\n",
    "elnet_clf = LogisticRegressionCV(penalty='elasticnet', Cs=[1e-3, 1e-2, 1e-1, 1],\n",
    "                                 l1_ratios=[1e-3, 1e-2, 1e-1, 1], solver='saga')\n",
    "elnet_clf.fit(X_train2d, y_train1d) \n",
    "predictions = elnet_clf.predict(X_train2d)\n",
    "confusion_matrix(y_train1d, predictions)"
   ]
  },
  {
   "cell_type": "markdown",
   "metadata": {},
   "source": [
    "### SVM"
   ]
  },
  {
   "cell_type": "code",
   "execution_count": 79,
   "metadata": {},
   "outputs": [
    {
     "name": "stdout",
     "output_type": "stream",
     "text": [
      "Fitting 5 folds for each of 12 candidates, totalling 60 fits\n",
      "[CV] END .....................C=0.001, dual=auto, penalty=l1; total time=   0.0s\n",
      "[CV] END .....................C=0.001, dual=auto, penalty=l1; total time=   0.0s\n",
      "[CV] END .....................C=0.001, dual=auto, penalty=l1; total time=   0.0s\n",
      "[CV] END .....................C=0.001, dual=auto, penalty=l1; total time=   0.0s\n",
      "[CV] END .....................C=0.001, dual=auto, penalty=l1; total time=   0.0s\n",
      "[CV] END .....................C=0.001, dual=auto, penalty=l2; total time=   0.6s\n",
      "[CV] END .....................C=0.001, dual=auto, penalty=l2; total time=   0.5s\n",
      "[CV] END .....................C=0.001, dual=auto, penalty=l2; total time=   0.5s\n",
      "[CV] END .....................C=0.001, dual=auto, penalty=l2; total time=   0.6s\n",
      "[CV] END .....................C=0.001, dual=auto, penalty=l2; total time=   0.6s\n"
     ]
    },
    {
     "name": "stderr",
     "output_type": "stream",
     "text": [
      "c:\\python311\\Lib\\site-packages\\sklearn\\svm\\_base.py:1250: ConvergenceWarning: Liblinear failed to converge, increase the number of iterations.\n",
      "  warnings.warn(\n"
     ]
    },
    {
     "name": "stdout",
     "output_type": "stream",
     "text": [
      "[CV] END ......................C=0.01, dual=auto, penalty=l1; total time=   0.5s\n"
     ]
    },
    {
     "name": "stderr",
     "output_type": "stream",
     "text": [
      "c:\\python311\\Lib\\site-packages\\sklearn\\svm\\_base.py:1250: ConvergenceWarning: Liblinear failed to converge, increase the number of iterations.\n",
      "  warnings.warn(\n"
     ]
    },
    {
     "name": "stdout",
     "output_type": "stream",
     "text": [
      "[CV] END ......................C=0.01, dual=auto, penalty=l1; total time=   0.4s\n"
     ]
    },
    {
     "name": "stderr",
     "output_type": "stream",
     "text": [
      "c:\\python311\\Lib\\site-packages\\sklearn\\svm\\_base.py:1250: ConvergenceWarning: Liblinear failed to converge, increase the number of iterations.\n",
      "  warnings.warn(\n"
     ]
    },
    {
     "name": "stdout",
     "output_type": "stream",
     "text": [
      "[CV] END ......................C=0.01, dual=auto, penalty=l1; total time=   0.5s\n"
     ]
    },
    {
     "name": "stderr",
     "output_type": "stream",
     "text": [
      "c:\\python311\\Lib\\site-packages\\sklearn\\svm\\_base.py:1250: ConvergenceWarning: Liblinear failed to converge, increase the number of iterations.\n",
      "  warnings.warn(\n"
     ]
    },
    {
     "name": "stdout",
     "output_type": "stream",
     "text": [
      "[CV] END ......................C=0.01, dual=auto, penalty=l1; total time=   0.5s\n"
     ]
    },
    {
     "name": "stderr",
     "output_type": "stream",
     "text": [
      "c:\\python311\\Lib\\site-packages\\sklearn\\svm\\_base.py:1250: ConvergenceWarning: Liblinear failed to converge, increase the number of iterations.\n",
      "  warnings.warn(\n"
     ]
    },
    {
     "name": "stdout",
     "output_type": "stream",
     "text": [
      "[CV] END ......................C=0.01, dual=auto, penalty=l1; total time=   0.5s\n",
      "[CV] END ......................C=0.01, dual=auto, penalty=l2; total time=   1.2s\n",
      "[CV] END ......................C=0.01, dual=auto, penalty=l2; total time=   1.3s\n",
      "[CV] END ......................C=0.01, dual=auto, penalty=l2; total time=   1.1s\n",
      "[CV] END ......................C=0.01, dual=auto, penalty=l2; total time=   1.3s\n",
      "[CV] END ......................C=0.01, dual=auto, penalty=l2; total time=   1.2s\n"
     ]
    },
    {
     "name": "stderr",
     "output_type": "stream",
     "text": [
      "c:\\python311\\Lib\\site-packages\\sklearn\\svm\\_base.py:1250: ConvergenceWarning: Liblinear failed to converge, increase the number of iterations.\n",
      "  warnings.warn(\n"
     ]
    },
    {
     "name": "stdout",
     "output_type": "stream",
     "text": [
      "[CV] END .......................C=0.1, dual=auto, penalty=l1; total time=   1.5s\n"
     ]
    },
    {
     "name": "stderr",
     "output_type": "stream",
     "text": [
      "c:\\python311\\Lib\\site-packages\\sklearn\\svm\\_base.py:1250: ConvergenceWarning: Liblinear failed to converge, increase the number of iterations.\n",
      "  warnings.warn(\n"
     ]
    },
    {
     "name": "stdout",
     "output_type": "stream",
     "text": [
      "[CV] END .......................C=0.1, dual=auto, penalty=l1; total time=   1.6s\n"
     ]
    },
    {
     "name": "stderr",
     "output_type": "stream",
     "text": [
      "c:\\python311\\Lib\\site-packages\\sklearn\\svm\\_base.py:1250: ConvergenceWarning: Liblinear failed to converge, increase the number of iterations.\n",
      "  warnings.warn(\n"
     ]
    },
    {
     "name": "stdout",
     "output_type": "stream",
     "text": [
      "[CV] END .......................C=0.1, dual=auto, penalty=l1; total time=   1.6s\n"
     ]
    },
    {
     "name": "stderr",
     "output_type": "stream",
     "text": [
      "c:\\python311\\Lib\\site-packages\\sklearn\\svm\\_base.py:1250: ConvergenceWarning: Liblinear failed to converge, increase the number of iterations.\n",
      "  warnings.warn(\n"
     ]
    },
    {
     "name": "stdout",
     "output_type": "stream",
     "text": [
      "[CV] END .......................C=0.1, dual=auto, penalty=l1; total time=   1.6s\n"
     ]
    },
    {
     "name": "stderr",
     "output_type": "stream",
     "text": [
      "c:\\python311\\Lib\\site-packages\\sklearn\\svm\\_base.py:1250: ConvergenceWarning: Liblinear failed to converge, increase the number of iterations.\n",
      "  warnings.warn(\n"
     ]
    },
    {
     "name": "stdout",
     "output_type": "stream",
     "text": [
      "[CV] END .......................C=0.1, dual=auto, penalty=l1; total time=   1.6s\n",
      "[CV] END .......................C=0.1, dual=auto, penalty=l2; total time=   2.8s\n",
      "[CV] END .......................C=0.1, dual=auto, penalty=l2; total time=   2.5s\n",
      "[CV] END .......................C=0.1, dual=auto, penalty=l2; total time=   2.7s\n",
      "[CV] END .......................C=0.1, dual=auto, penalty=l2; total time=   2.4s\n",
      "[CV] END .......................C=0.1, dual=auto, penalty=l2; total time=   2.6s\n"
     ]
    },
    {
     "name": "stderr",
     "output_type": "stream",
     "text": [
      "c:\\python311\\Lib\\site-packages\\sklearn\\svm\\_base.py:1250: ConvergenceWarning: Liblinear failed to converge, increase the number of iterations.\n",
      "  warnings.warn(\n"
     ]
    },
    {
     "name": "stdout",
     "output_type": "stream",
     "text": [
      "[CV] END .........................C=1, dual=auto, penalty=l1; total time=   3.1s\n"
     ]
    },
    {
     "name": "stderr",
     "output_type": "stream",
     "text": [
      "c:\\python311\\Lib\\site-packages\\sklearn\\svm\\_base.py:1250: ConvergenceWarning: Liblinear failed to converge, increase the number of iterations.\n",
      "  warnings.warn(\n"
     ]
    },
    {
     "name": "stdout",
     "output_type": "stream",
     "text": [
      "[CV] END .........................C=1, dual=auto, penalty=l1; total time=   2.9s\n"
     ]
    },
    {
     "name": "stderr",
     "output_type": "stream",
     "text": [
      "c:\\python311\\Lib\\site-packages\\sklearn\\svm\\_base.py:1250: ConvergenceWarning: Liblinear failed to converge, increase the number of iterations.\n",
      "  warnings.warn(\n"
     ]
    },
    {
     "name": "stdout",
     "output_type": "stream",
     "text": [
      "[CV] END .........................C=1, dual=auto, penalty=l1; total time=   3.1s\n"
     ]
    },
    {
     "name": "stderr",
     "output_type": "stream",
     "text": [
      "c:\\python311\\Lib\\site-packages\\sklearn\\svm\\_base.py:1250: ConvergenceWarning: Liblinear failed to converge, increase the number of iterations.\n",
      "  warnings.warn(\n"
     ]
    },
    {
     "name": "stdout",
     "output_type": "stream",
     "text": [
      "[CV] END .........................C=1, dual=auto, penalty=l1; total time=   2.8s\n"
     ]
    },
    {
     "name": "stderr",
     "output_type": "stream",
     "text": [
      "c:\\python311\\Lib\\site-packages\\sklearn\\svm\\_base.py:1250: ConvergenceWarning: Liblinear failed to converge, increase the number of iterations.\n",
      "  warnings.warn(\n"
     ]
    },
    {
     "name": "stdout",
     "output_type": "stream",
     "text": [
      "[CV] END .........................C=1, dual=auto, penalty=l1; total time=   3.0s\n",
      "[CV] END .........................C=1, dual=auto, penalty=l2; total time=   4.7s\n",
      "[CV] END .........................C=1, dual=auto, penalty=l2; total time=   4.0s\n",
      "[CV] END .........................C=1, dual=auto, penalty=l2; total time=   4.3s\n",
      "[CV] END .........................C=1, dual=auto, penalty=l2; total time=   4.5s\n",
      "[CV] END .........................C=1, dual=auto, penalty=l2; total time=   4.3s\n"
     ]
    },
    {
     "name": "stderr",
     "output_type": "stream",
     "text": [
      "c:\\python311\\Lib\\site-packages\\sklearn\\svm\\_base.py:1250: ConvergenceWarning: Liblinear failed to converge, increase the number of iterations.\n",
      "  warnings.warn(\n"
     ]
    },
    {
     "name": "stdout",
     "output_type": "stream",
     "text": [
      "[CV] END ........................C=10, dual=auto, penalty=l1; total time=   6.2s\n"
     ]
    },
    {
     "name": "stderr",
     "output_type": "stream",
     "text": [
      "c:\\python311\\Lib\\site-packages\\sklearn\\svm\\_base.py:1250: ConvergenceWarning: Liblinear failed to converge, increase the number of iterations.\n",
      "  warnings.warn(\n"
     ]
    },
    {
     "name": "stdout",
     "output_type": "stream",
     "text": [
      "[CV] END ........................C=10, dual=auto, penalty=l1; total time=   5.9s\n"
     ]
    },
    {
     "name": "stderr",
     "output_type": "stream",
     "text": [
      "c:\\python311\\Lib\\site-packages\\sklearn\\svm\\_base.py:1250: ConvergenceWarning: Liblinear failed to converge, increase the number of iterations.\n",
      "  warnings.warn(\n"
     ]
    },
    {
     "name": "stdout",
     "output_type": "stream",
     "text": [
      "[CV] END ........................C=10, dual=auto, penalty=l1; total time=   6.7s\n"
     ]
    },
    {
     "name": "stderr",
     "output_type": "stream",
     "text": [
      "c:\\python311\\Lib\\site-packages\\sklearn\\svm\\_base.py:1250: ConvergenceWarning: Liblinear failed to converge, increase the number of iterations.\n",
      "  warnings.warn(\n"
     ]
    },
    {
     "name": "stdout",
     "output_type": "stream",
     "text": [
      "[CV] END ........................C=10, dual=auto, penalty=l1; total time=   6.1s\n"
     ]
    },
    {
     "name": "stderr",
     "output_type": "stream",
     "text": [
      "c:\\python311\\Lib\\site-packages\\sklearn\\svm\\_base.py:1250: ConvergenceWarning: Liblinear failed to converge, increase the number of iterations.\n",
      "  warnings.warn(\n"
     ]
    },
    {
     "name": "stdout",
     "output_type": "stream",
     "text": [
      "[CV] END ........................C=10, dual=auto, penalty=l1; total time=   6.0s\n",
      "[CV] END ........................C=10, dual=auto, penalty=l2; total time=   7.0s\n",
      "[CV] END ........................C=10, dual=auto, penalty=l2; total time=   6.1s\n",
      "[CV] END ........................C=10, dual=auto, penalty=l2; total time=   5.8s\n",
      "[CV] END ........................C=10, dual=auto, penalty=l2; total time=   5.5s\n",
      "[CV] END ........................C=10, dual=auto, penalty=l2; total time=   7.4s\n"
     ]
    },
    {
     "name": "stderr",
     "output_type": "stream",
     "text": [
      "c:\\python311\\Lib\\site-packages\\sklearn\\svm\\_base.py:1250: ConvergenceWarning: Liblinear failed to converge, increase the number of iterations.\n",
      "  warnings.warn(\n"
     ]
    },
    {
     "name": "stdout",
     "output_type": "stream",
     "text": [
      "[CV] END .......................C=100, dual=auto, penalty=l1; total time=   9.1s\n"
     ]
    },
    {
     "name": "stderr",
     "output_type": "stream",
     "text": [
      "c:\\python311\\Lib\\site-packages\\sklearn\\svm\\_base.py:1250: ConvergenceWarning: Liblinear failed to converge, increase the number of iterations.\n",
      "  warnings.warn(\n"
     ]
    },
    {
     "name": "stdout",
     "output_type": "stream",
     "text": [
      "[CV] END .......................C=100, dual=auto, penalty=l1; total time=   9.1s\n"
     ]
    },
    {
     "name": "stderr",
     "output_type": "stream",
     "text": [
      "c:\\python311\\Lib\\site-packages\\sklearn\\svm\\_base.py:1250: ConvergenceWarning: Liblinear failed to converge, increase the number of iterations.\n",
      "  warnings.warn(\n"
     ]
    },
    {
     "name": "stdout",
     "output_type": "stream",
     "text": [
      "[CV] END .......................C=100, dual=auto, penalty=l1; total time=   9.3s\n"
     ]
    },
    {
     "name": "stderr",
     "output_type": "stream",
     "text": [
      "c:\\python311\\Lib\\site-packages\\sklearn\\svm\\_base.py:1250: ConvergenceWarning: Liblinear failed to converge, increase the number of iterations.\n",
      "  warnings.warn(\n"
     ]
    },
    {
     "name": "stdout",
     "output_type": "stream",
     "text": [
      "[CV] END .......................C=100, dual=auto, penalty=l1; total time=   9.0s\n"
     ]
    },
    {
     "name": "stderr",
     "output_type": "stream",
     "text": [
      "c:\\python311\\Lib\\site-packages\\sklearn\\svm\\_base.py:1250: ConvergenceWarning: Liblinear failed to converge, increase the number of iterations.\n",
      "  warnings.warn(\n"
     ]
    },
    {
     "name": "stdout",
     "output_type": "stream",
     "text": [
      "[CV] END .......................C=100, dual=auto, penalty=l1; total time=   9.0s\n",
      "[CV] END .......................C=100, dual=auto, penalty=l2; total time=   7.3s\n",
      "[CV] END .......................C=100, dual=auto, penalty=l2; total time=   6.9s\n",
      "[CV] END .......................C=100, dual=auto, penalty=l2; total time=   6.5s\n",
      "[CV] END .......................C=100, dual=auto, penalty=l2; total time=   6.6s\n",
      "[CV] END .......................C=100, dual=auto, penalty=l2; total time=   7.7s\n"
     ]
    },
    {
     "data": {
      "text/plain": [
       "array([[3877,    0,    0],\n",
       "       [1096,    8,    0],\n",
       "       [1135,    0,  184]], dtype=int64)"
      ]
     },
     "execution_count": 79,
     "metadata": {},
     "output_type": "execute_result"
    }
   ],
   "source": [
    "from sklearn.svm import LinearSVC\n",
    "from sklearn.model_selection import GridSearchCV\n",
    "\n",
    "param_grid = {'penalty':('l1', 'l2'), 'C':(0.001, 0.01, 0.1, 1, 10, 100), 'dual':('auto',)}\n",
    "svm_lin_clf = GridSearchCV(LinearSVC(), param_grid, refit=True, verbose=2)\n",
    "\n",
    "svm_lin_clf.fit(X_train2d, y_train1d)\n",
    "predictions = svm_lin_clf.predict(X_train2d)\n",
    "confusion_matrix(y_train1d, predictions)"
   ]
  },
  {
   "cell_type": "code",
   "execution_count": 80,
   "metadata": {},
   "outputs": [
    {
     "name": "stdout",
     "output_type": "stream",
     "text": [
      "Fitting 5 folds for each of 32 candidates, totalling 160 fits\n",
      "[CV] END .........................C=0.1, gamma=1, kernel=rbf; total time=   4.0s\n",
      "[CV] END .........................C=0.1, gamma=1, kernel=rbf; total time=   3.9s\n",
      "[CV] END .........................C=0.1, gamma=1, kernel=rbf; total time=   4.0s\n",
      "[CV] END .........................C=0.1, gamma=1, kernel=rbf; total time=   4.0s\n",
      "[CV] END .........................C=0.1, gamma=1, kernel=rbf; total time=   3.8s\n",
      "[CV] END .....................C=0.1, gamma=1, kernel=sigmoid; total time=   1.6s\n",
      "[CV] END .....................C=0.1, gamma=1, kernel=sigmoid; total time=   1.6s\n",
      "[CV] END .....................C=0.1, gamma=1, kernel=sigmoid; total time=   1.6s\n",
      "[CV] END .....................C=0.1, gamma=1, kernel=sigmoid; total time=   1.7s\n",
      "[CV] END .....................C=0.1, gamma=1, kernel=sigmoid; total time=   1.8s\n",
      "[CV] END .......................C=0.1, gamma=0.1, kernel=rbf; total time=   2.9s\n",
      "[CV] END .......................C=0.1, gamma=0.1, kernel=rbf; total time=   2.8s\n",
      "[CV] END .......................C=0.1, gamma=0.1, kernel=rbf; total time=   2.8s\n",
      "[CV] END .......................C=0.1, gamma=0.1, kernel=rbf; total time=   2.8s\n",
      "[CV] END .......................C=0.1, gamma=0.1, kernel=rbf; total time=   2.9s\n",
      "[CV] END ...................C=0.1, gamma=0.1, kernel=sigmoid; total time=   2.0s\n",
      "[CV] END ...................C=0.1, gamma=0.1, kernel=sigmoid; total time=   1.8s\n",
      "[CV] END ...................C=0.1, gamma=0.1, kernel=sigmoid; total time=   1.8s\n",
      "[CV] END ...................C=0.1, gamma=0.1, kernel=sigmoid; total time=   1.7s\n",
      "[CV] END ...................C=0.1, gamma=0.1, kernel=sigmoid; total time=   1.8s\n",
      "[CV] END ......................C=0.1, gamma=0.01, kernel=rbf; total time=   2.4s\n",
      "[CV] END ......................C=0.1, gamma=0.01, kernel=rbf; total time=   2.2s\n",
      "[CV] END ......................C=0.1, gamma=0.01, kernel=rbf; total time=   5.2s\n",
      "[CV] END ......................C=0.1, gamma=0.01, kernel=rbf; total time=   7.1s\n",
      "[CV] END ......................C=0.1, gamma=0.01, kernel=rbf; total time=   7.3s\n",
      "[CV] END ..................C=0.1, gamma=0.01, kernel=sigmoid; total time=   4.8s\n",
      "[CV] END ..................C=0.1, gamma=0.01, kernel=sigmoid; total time=   4.6s\n",
      "[CV] END ..................C=0.1, gamma=0.01, kernel=sigmoid; total time=   4.6s\n",
      "[CV] END ..................C=0.1, gamma=0.01, kernel=sigmoid; total time=   4.7s\n",
      "[CV] END ..................C=0.1, gamma=0.01, kernel=sigmoid; total time=   5.2s\n",
      "[CV] END .....................C=0.1, gamma=0.001, kernel=rbf; total time=   6.3s\n",
      "[CV] END .....................C=0.1, gamma=0.001, kernel=rbf; total time=   6.3s\n",
      "[CV] END .....................C=0.1, gamma=0.001, kernel=rbf; total time=   6.2s\n",
      "[CV] END .....................C=0.1, gamma=0.001, kernel=rbf; total time=   6.4s\n",
      "[CV] END .....................C=0.1, gamma=0.001, kernel=rbf; total time=   6.3s\n",
      "[CV] END .................C=0.1, gamma=0.001, kernel=sigmoid; total time=   6.0s\n",
      "[CV] END .................C=0.1, gamma=0.001, kernel=sigmoid; total time=   6.1s\n",
      "[CV] END .................C=0.1, gamma=0.001, kernel=sigmoid; total time=   6.1s\n",
      "[CV] END .................C=0.1, gamma=0.001, kernel=sigmoid; total time=   6.1s\n",
      "[CV] END .................C=0.1, gamma=0.001, kernel=sigmoid; total time=   6.2s\n",
      "[CV] END ...........................C=1, gamma=1, kernel=rbf; total time=  12.1s\n",
      "[CV] END ...........................C=1, gamma=1, kernel=rbf; total time=  12.2s\n",
      "[CV] END ...........................C=1, gamma=1, kernel=rbf; total time=  12.6s\n",
      "[CV] END ...........................C=1, gamma=1, kernel=rbf; total time=   4.1s\n",
      "[CV] END ...........................C=1, gamma=1, kernel=rbf; total time=   4.0s\n",
      "[CV] END .......................C=1, gamma=1, kernel=sigmoid; total time=   1.6s\n",
      "[CV] END .......................C=1, gamma=1, kernel=sigmoid; total time=   1.5s\n",
      "[CV] END .......................C=1, gamma=1, kernel=sigmoid; total time=   1.5s\n",
      "[CV] END .......................C=1, gamma=1, kernel=sigmoid; total time=   1.5s\n",
      "[CV] END .......................C=1, gamma=1, kernel=sigmoid; total time=   1.6s\n",
      "[CV] END .........................C=1, gamma=0.1, kernel=rbf; total time=   2.8s\n",
      "[CV] END .........................C=1, gamma=0.1, kernel=rbf; total time=   3.0s\n",
      "[CV] END .........................C=1, gamma=0.1, kernel=rbf; total time=   3.0s\n",
      "[CV] END .........................C=1, gamma=0.1, kernel=rbf; total time=   2.9s\n",
      "[CV] END .........................C=1, gamma=0.1, kernel=rbf; total time=   2.8s\n",
      "[CV] END .....................C=1, gamma=0.1, kernel=sigmoid; total time=   1.7s\n",
      "[CV] END .....................C=1, gamma=0.1, kernel=sigmoid; total time=   1.6s\n",
      "[CV] END .....................C=1, gamma=0.1, kernel=sigmoid; total time=   1.6s\n",
      "[CV] END .....................C=1, gamma=0.1, kernel=sigmoid; total time=   1.6s\n",
      "[CV] END .....................C=1, gamma=0.1, kernel=sigmoid; total time=   1.6s\n",
      "[CV] END ........................C=1, gamma=0.01, kernel=rbf; total time=   2.1s\n",
      "[CV] END ........................C=1, gamma=0.01, kernel=rbf; total time=   2.1s\n",
      "[CV] END ........................C=1, gamma=0.01, kernel=rbf; total time=   2.1s\n",
      "[CV] END ........................C=1, gamma=0.01, kernel=rbf; total time=   2.2s\n",
      "[CV] END ........................C=1, gamma=0.01, kernel=rbf; total time=   2.1s\n",
      "[CV] END ....................C=1, gamma=0.01, kernel=sigmoid; total time=   1.3s\n",
      "[CV] END ....................C=1, gamma=0.01, kernel=sigmoid; total time=   1.3s\n",
      "[CV] END ....................C=1, gamma=0.01, kernel=sigmoid; total time=   1.4s\n",
      "[CV] END ....................C=1, gamma=0.01, kernel=sigmoid; total time=   1.3s\n",
      "[CV] END ....................C=1, gamma=0.01, kernel=sigmoid; total time=   1.4s\n",
      "[CV] END .......................C=1, gamma=0.001, kernel=rbf; total time=   1.8s\n",
      "[CV] END .......................C=1, gamma=0.001, kernel=rbf; total time=   1.8s\n",
      "[CV] END .......................C=1, gamma=0.001, kernel=rbf; total time=   2.0s\n",
      "[CV] END .......................C=1, gamma=0.001, kernel=rbf; total time=   1.8s\n",
      "[CV] END .......................C=1, gamma=0.001, kernel=rbf; total time=   1.7s\n",
      "[CV] END ...................C=1, gamma=0.001, kernel=sigmoid; total time=   1.5s\n",
      "[CV] END ...................C=1, gamma=0.001, kernel=sigmoid; total time=   1.5s\n",
      "[CV] END ...................C=1, gamma=0.001, kernel=sigmoid; total time=   1.3s\n",
      "[CV] END ...................C=1, gamma=0.001, kernel=sigmoid; total time=   1.5s\n",
      "[CV] END ...................C=1, gamma=0.001, kernel=sigmoid; total time=   1.5s\n",
      "[CV] END ..........................C=10, gamma=1, kernel=rbf; total time=   3.7s\n",
      "[CV] END ..........................C=10, gamma=1, kernel=rbf; total time=   3.7s\n",
      "[CV] END ..........................C=10, gamma=1, kernel=rbf; total time=   3.7s\n",
      "[CV] END ..........................C=10, gamma=1, kernel=rbf; total time=   3.8s\n",
      "[CV] END ..........................C=10, gamma=1, kernel=rbf; total time=   3.8s\n",
      "[CV] END ......................C=10, gamma=1, kernel=sigmoid; total time=   1.3s\n",
      "[CV] END ......................C=10, gamma=1, kernel=sigmoid; total time=   1.3s\n",
      "[CV] END ......................C=10, gamma=1, kernel=sigmoid; total time=   1.3s\n",
      "[CV] END ......................C=10, gamma=1, kernel=sigmoid; total time=   1.3s\n",
      "[CV] END ......................C=10, gamma=1, kernel=sigmoid; total time=   1.4s\n",
      "[CV] END ........................C=10, gamma=0.1, kernel=rbf; total time=   3.1s\n",
      "[CV] END ........................C=10, gamma=0.1, kernel=rbf; total time=   3.0s\n",
      "[CV] END ........................C=10, gamma=0.1, kernel=rbf; total time=   3.2s\n",
      "[CV] END ........................C=10, gamma=0.1, kernel=rbf; total time=   3.2s\n",
      "[CV] END ........................C=10, gamma=0.1, kernel=rbf; total time=   3.0s\n",
      "[CV] END ....................C=10, gamma=0.1, kernel=sigmoid; total time=   1.4s\n",
      "[CV] END ....................C=10, gamma=0.1, kernel=sigmoid; total time=   1.4s\n",
      "[CV] END ....................C=10, gamma=0.1, kernel=sigmoid; total time=   1.4s\n",
      "[CV] END ....................C=10, gamma=0.1, kernel=sigmoid; total time=   1.4s\n",
      "[CV] END ....................C=10, gamma=0.1, kernel=sigmoid; total time=   1.4s\n",
      "[CV] END .......................C=10, gamma=0.01, kernel=rbf; total time=   1.8s\n",
      "[CV] END .......................C=10, gamma=0.01, kernel=rbf; total time=   1.9s\n",
      "[CV] END .......................C=10, gamma=0.01, kernel=rbf; total time=   1.8s\n",
      "[CV] END .......................C=10, gamma=0.01, kernel=rbf; total time=   1.9s\n",
      "[CV] END .......................C=10, gamma=0.01, kernel=rbf; total time=   1.9s\n",
      "[CV] END ...................C=10, gamma=0.01, kernel=sigmoid; total time=   1.2s\n",
      "[CV] END ...................C=10, gamma=0.01, kernel=sigmoid; total time=   1.1s\n",
      "[CV] END ...................C=10, gamma=0.01, kernel=sigmoid; total time=   1.2s\n",
      "[CV] END ...................C=10, gamma=0.01, kernel=sigmoid; total time=   1.2s\n",
      "[CV] END ...................C=10, gamma=0.01, kernel=sigmoid; total time=   1.2s\n",
      "[CV] END ......................C=10, gamma=0.001, kernel=rbf; total time=   1.6s\n",
      "[CV] END ......................C=10, gamma=0.001, kernel=rbf; total time=   1.6s\n",
      "[CV] END ......................C=10, gamma=0.001, kernel=rbf; total time=   1.5s\n",
      "[CV] END ......................C=10, gamma=0.001, kernel=rbf; total time=   1.6s\n",
      "[CV] END ......................C=10, gamma=0.001, kernel=rbf; total time=   1.6s\n",
      "[CV] END ..................C=10, gamma=0.001, kernel=sigmoid; total time=   1.1s\n",
      "[CV] END ..................C=10, gamma=0.001, kernel=sigmoid; total time=   1.1s\n",
      "[CV] END ..................C=10, gamma=0.001, kernel=sigmoid; total time=   1.1s\n",
      "[CV] END ..................C=10, gamma=0.001, kernel=sigmoid; total time=   1.1s\n",
      "[CV] END ..................C=10, gamma=0.001, kernel=sigmoid; total time=   1.2s\n",
      "[CV] END .........................C=100, gamma=1, kernel=rbf; total time=   3.9s\n",
      "[CV] END .........................C=100, gamma=1, kernel=rbf; total time=   3.7s\n",
      "[CV] END .........................C=100, gamma=1, kernel=rbf; total time=   3.7s\n",
      "[CV] END .........................C=100, gamma=1, kernel=rbf; total time=   3.7s\n",
      "[CV] END .........................C=100, gamma=1, kernel=rbf; total time=   3.7s\n",
      "[CV] END .....................C=100, gamma=1, kernel=sigmoid; total time=   1.3s\n",
      "[CV] END .....................C=100, gamma=1, kernel=sigmoid; total time=   1.3s\n",
      "[CV] END .....................C=100, gamma=1, kernel=sigmoid; total time=   1.3s\n",
      "[CV] END .....................C=100, gamma=1, kernel=sigmoid; total time=   1.3s\n",
      "[CV] END .....................C=100, gamma=1, kernel=sigmoid; total time=   1.4s\n",
      "[CV] END .......................C=100, gamma=0.1, kernel=rbf; total time=   3.0s\n",
      "[CV] END .......................C=100, gamma=0.1, kernel=rbf; total time=   3.0s\n",
      "[CV] END .......................C=100, gamma=0.1, kernel=rbf; total time=   3.2s\n",
      "[CV] END .......................C=100, gamma=0.1, kernel=rbf; total time=   3.0s\n",
      "[CV] END .......................C=100, gamma=0.1, kernel=rbf; total time=   2.9s\n",
      "[CV] END ...................C=100, gamma=0.1, kernel=sigmoid; total time=   1.5s\n",
      "[CV] END ...................C=100, gamma=0.1, kernel=sigmoid; total time=   1.4s\n",
      "[CV] END ...................C=100, gamma=0.1, kernel=sigmoid; total time=   1.4s\n",
      "[CV] END ...................C=100, gamma=0.1, kernel=sigmoid; total time=   1.4s\n",
      "[CV] END ...................C=100, gamma=0.1, kernel=sigmoid; total time=   1.4s\n",
      "[CV] END ......................C=100, gamma=0.01, kernel=rbf; total time=   2.1s\n",
      "[CV] END ......................C=100, gamma=0.01, kernel=rbf; total time=   2.2s\n",
      "[CV] END ......................C=100, gamma=0.01, kernel=rbf; total time=   2.1s\n",
      "[CV] END ......................C=100, gamma=0.01, kernel=rbf; total time=   2.1s\n",
      "[CV] END ......................C=100, gamma=0.01, kernel=rbf; total time=   2.1s\n",
      "[CV] END ..................C=100, gamma=0.01, kernel=sigmoid; total time=   1.1s\n",
      "[CV] END ..................C=100, gamma=0.01, kernel=sigmoid; total time=   1.1s\n",
      "[CV] END ..................C=100, gamma=0.01, kernel=sigmoid; total time=   1.2s\n",
      "[CV] END ..................C=100, gamma=0.01, kernel=sigmoid; total time=   1.2s\n",
      "[CV] END ..................C=100, gamma=0.01, kernel=sigmoid; total time=   1.3s\n",
      "[CV] END .....................C=100, gamma=0.001, kernel=rbf; total time=   1.9s\n",
      "[CV] END .....................C=100, gamma=0.001, kernel=rbf; total time=   1.9s\n",
      "[CV] END .....................C=100, gamma=0.001, kernel=rbf; total time=   1.8s\n",
      "[CV] END .....................C=100, gamma=0.001, kernel=rbf; total time=   1.8s\n",
      "[CV] END .....................C=100, gamma=0.001, kernel=rbf; total time=   1.9s\n",
      "[CV] END .................C=100, gamma=0.001, kernel=sigmoid; total time=   1.0s\n",
      "[CV] END .................C=100, gamma=0.001, kernel=sigmoid; total time=   1.0s\n",
      "[CV] END .................C=100, gamma=0.001, kernel=sigmoid; total time=   1.0s\n",
      "[CV] END .................C=100, gamma=0.001, kernel=sigmoid; total time=   1.1s\n",
      "[CV] END .................C=100, gamma=0.001, kernel=sigmoid; total time=   1.1s\n"
     ]
    },
    {
     "data": {
      "text/plain": [
       "array([[3873,    0,    4],\n",
       "       [ 126,  978,    0],\n",
       "       [ 239,    0, 1080]], dtype=int64)"
      ]
     },
     "execution_count": 80,
     "metadata": {},
     "output_type": "execute_result"
    }
   ],
   "source": [
    "from sklearn.svm import SVC\n",
    "\n",
    "param_grid = {'C': [0.1,1, 10, 100], 'gamma': [1,0.1,0.01,0.001],'kernel': ['rbf', 'sigmoid']}\n",
    "\n",
    "svm_clf = GridSearchCV(SVC(),param_grid,refit=True,verbose=2)\n",
    "\n",
    "svm_clf.fit(X_train2d, y_train1d) \n",
    "predictions = svm_clf.predict(X_train2d)\n",
    "confusion_matrix(y_train1d, predictions)"
   ]
  },
  {
   "cell_type": "code",
   "execution_count": 81,
   "metadata": {},
   "outputs": [
    {
     "data": {
      "text/plain": [
       "{'C': 100, 'gamma': 0.01, 'kernel': 'rbf'}"
      ]
     },
     "execution_count": 81,
     "metadata": {},
     "output_type": "execute_result"
    }
   ],
   "source": [
    "svm_clf.best_params_"
   ]
  },
  {
   "cell_type": "code",
   "execution_count": 82,
   "metadata": {},
   "outputs": [
    {
     "data": {
      "text/plain": [
       "array([[1211,   19,   49],\n",
       "       [ 120,  274,    8],\n",
       "       [ 127,    3,  289]], dtype=int64)"
      ]
     },
     "execution_count": 82,
     "metadata": {},
     "output_type": "execute_result"
    }
   ],
   "source": [
    "predictions = svm_clf.predict(X_test2d)\n",
    "confusion_matrix(y_test_1d, predictions)"
   ]
  },
  {
   "cell_type": "markdown",
   "metadata": {},
   "source": [
    "### Gradient boosted trees"
   ]
  },
  {
   "cell_type": "code",
   "execution_count": 8,
   "metadata": {},
   "outputs": [
    {
     "name": "stdout",
     "output_type": "stream",
     "text": [
      "Fitting 5 folds for each of 3 candidates, totalling 15 fits\n",
      "[CV] END .................................learning_rate=0.01; total time= 4.2min\n",
      "[CV] END .................................learning_rate=0.01; total time= 4.0min\n",
      "[CV] END .................................learning_rate=0.01; total time= 4.1min\n",
      "[CV] END .................................learning_rate=0.01; total time= 4.0min\n",
      "[CV] END .................................learning_rate=0.01; total time= 4.0min\n",
      "[CV] END ..................................learning_rate=0.1; total time= 4.0min\n",
      "[CV] END ..................................learning_rate=0.1; total time= 4.0min\n",
      "[CV] END ..................................learning_rate=0.1; total time= 4.0min\n",
      "[CV] END ..................................learning_rate=0.1; total time= 4.0min\n",
      "[CV] END ..................................learning_rate=0.1; total time= 4.0min\n",
      "[CV] END ....................................learning_rate=1; total time= 4.0min\n",
      "[CV] END ....................................learning_rate=1; total time= 4.0min\n",
      "[CV] END ....................................learning_rate=1; total time= 4.0min\n",
      "[CV] END ....................................learning_rate=1; total time= 4.0min\n",
      "[CV] END ....................................learning_rate=1; total time= 4.0min\n"
     ]
    },
    {
     "data": {
      "text/plain": [
       "{'learning_rate': 1}"
      ]
     },
     "execution_count": 8,
     "metadata": {},
     "output_type": "execute_result"
    }
   ],
   "source": [
    "from sklearn.ensemble import GradientBoostingClassifier\n",
    "from sklearn.model_selection import GridSearchCV\n",
    "\n",
    "param_grid = {'learning_rate': (0.01, 0.1, 1),}\n",
    "gbm_clf = GridSearchCV(GradientBoostingClassifier(), param_grid, refit=True, verbose=2)\n",
    "gbm_clf.fit(X_train2d, y_train1d)\n",
    "gbm_clf.best_params_"
   ]
  },
  {
   "cell_type": "code",
   "execution_count": 10,
   "metadata": {},
   "outputs": [
    {
     "name": "stdout",
     "output_type": "stream",
     "text": [
      "Fitting 5 folds for each of 5 candidates, totalling 25 fits\n",
      "[CV] END ..................................learning_rate=0.3; total time= 4.3min\n",
      "[CV] END ..................................learning_rate=0.3; total time= 4.0min\n",
      "[CV] END ..................................learning_rate=0.3; total time= 4.0min\n",
      "[CV] END ..................................learning_rate=0.3; total time= 4.0min\n",
      "[CV] END ..................................learning_rate=0.3; total time= 4.0min\n",
      "[CV] END ..................................learning_rate=0.4; total time= 4.0min\n",
      "[CV] END ..................................learning_rate=0.4; total time= 4.0min\n",
      "[CV] END ..................................learning_rate=0.4; total time= 4.0min\n",
      "[CV] END ..................................learning_rate=0.4; total time= 4.0min\n",
      "[CV] END ..................................learning_rate=0.4; total time= 4.0min\n",
      "[CV] END ..................................learning_rate=0.5; total time= 4.0min\n",
      "[CV] END ..................................learning_rate=0.5; total time= 4.0min\n",
      "[CV] END ..................................learning_rate=0.5; total time= 4.0min\n",
      "[CV] END ..................................learning_rate=0.5; total time= 4.0min\n",
      "[CV] END ..................................learning_rate=0.5; total time= 4.0min\n",
      "[CV] END ..................................learning_rate=0.6; total time= 4.0min\n",
      "[CV] END ..................................learning_rate=0.6; total time= 4.0min\n",
      "[CV] END ..................................learning_rate=0.6; total time= 4.0min\n",
      "[CV] END ..................................learning_rate=0.6; total time= 4.0min\n",
      "[CV] END ..................................learning_rate=0.6; total time= 4.0min\n",
      "[CV] END ..................................learning_rate=0.7; total time= 4.0min\n",
      "[CV] END ..................................learning_rate=0.7; total time= 4.0min\n",
      "[CV] END ..................................learning_rate=0.7; total time= 4.0min\n",
      "[CV] END ..................................learning_rate=0.7; total time= 4.0min\n",
      "[CV] END ..................................learning_rate=0.7; total time= 4.0min\n"
     ]
    },
    {
     "data": {
      "text/plain": [
       "{'learning_rate': 0.4}"
      ]
     },
     "execution_count": 10,
     "metadata": {},
     "output_type": "execute_result"
    }
   ],
   "source": [
    "param_grid = {'learning_rate': (0.3, 0.4, 0.5, 0.6, 0.7),}\n",
    "gbm_clf = GridSearchCV(GradientBoostingClassifier(), param_grid, refit=True, verbose=2)\n",
    "gbm_clf.fit(X_train2d, y_train1d)\n",
    "gbm_clf.best_params_"
   ]
  },
  {
   "cell_type": "code",
   "execution_count": 12,
   "metadata": {},
   "outputs": [
    {
     "name": "stdout",
     "output_type": "stream",
     "text": [
      "Fitting 5 folds for each of 2 candidates, totalling 10 fits\n",
      "[CV] END .............learning_rate=0.4, min_samples_split=2; total time= 4.2min\n",
      "[CV] END .............learning_rate=0.4, min_samples_split=2; total time= 4.0min\n",
      "[CV] END .............learning_rate=0.4, min_samples_split=2; total time= 4.0min\n",
      "[CV] END .............learning_rate=0.4, min_samples_split=2; total time= 4.0min\n",
      "[CV] END .............learning_rate=0.4, min_samples_split=2; total time= 4.0min\n",
      "[CV] END .............learning_rate=0.4, min_samples_split=4; total time= 4.0min\n",
      "[CV] END .............learning_rate=0.4, min_samples_split=4; total time= 4.0min\n",
      "[CV] END .............learning_rate=0.4, min_samples_split=4; total time= 4.0min\n",
      "[CV] END .............learning_rate=0.4, min_samples_split=4; total time= 4.0min\n",
      "[CV] END .............learning_rate=0.4, min_samples_split=4; total time= 4.0min\n"
     ]
    },
    {
     "data": {
      "text/plain": [
       "{'learning_rate': 0.4, 'min_samples_split': 2}"
      ]
     },
     "execution_count": 12,
     "metadata": {},
     "output_type": "execute_result"
    }
   ],
   "source": [
    "param_grid = {'learning_rate': (0.4,), 'min_samples_split': (2, 4)}\n",
    "gbm_clf = GridSearchCV(GradientBoostingClassifier(), param_grid, verbose=2)\n",
    "gbm_clf.fit(X_train2d, y_train1d)\n",
    "gbm_clf.best_params_"
   ]
  },
  {
   "cell_type": "code",
   "execution_count": 15,
   "metadata": {},
   "outputs": [
    {
     "name": "stdout",
     "output_type": "stream",
     "text": [
      "Fitting 5 folds for each of 3 candidates, totalling 15 fits\n",
      "[CV] END learning_rate=0.4, min_samples_leaf=1, min_samples_split=2; total time= 4.3min\n",
      "[CV] END learning_rate=0.4, min_samples_leaf=1, min_samples_split=2; total time= 4.0min\n",
      "[CV] END learning_rate=0.4, min_samples_leaf=1, min_samples_split=2; total time= 4.0min\n",
      "[CV] END learning_rate=0.4, min_samples_leaf=1, min_samples_split=2; total time= 4.0min\n",
      "[CV] END learning_rate=0.4, min_samples_leaf=1, min_samples_split=2; total time= 4.0min\n",
      "[CV] END learning_rate=0.4, min_samples_leaf=2, min_samples_split=2; total time= 4.0min\n",
      "[CV] END learning_rate=0.4, min_samples_leaf=2, min_samples_split=2; total time= 4.0min\n",
      "[CV] END learning_rate=0.4, min_samples_leaf=2, min_samples_split=2; total time= 4.0min\n",
      "[CV] END learning_rate=0.4, min_samples_leaf=2, min_samples_split=2; total time= 4.0min\n",
      "[CV] END learning_rate=0.4, min_samples_leaf=2, min_samples_split=2; total time= 4.0min\n",
      "[CV] END learning_rate=0.4, min_samples_leaf=4, min_samples_split=2; total time= 4.0min\n",
      "[CV] END learning_rate=0.4, min_samples_leaf=4, min_samples_split=2; total time= 4.0min\n",
      "[CV] END learning_rate=0.4, min_samples_leaf=4, min_samples_split=2; total time= 4.0min\n",
      "[CV] END learning_rate=0.4, min_samples_leaf=4, min_samples_split=2; total time= 4.0min\n",
      "[CV] END learning_rate=0.4, min_samples_leaf=4, min_samples_split=2; total time= 4.0min\n"
     ]
    },
    {
     "data": {
      "text/plain": [
       "{'learning_rate': 0.4, 'min_samples_leaf': 1, 'min_samples_split': 2}"
      ]
     },
     "execution_count": 15,
     "metadata": {},
     "output_type": "execute_result"
    }
   ],
   "source": [
    "param_grid = {'learning_rate': (0.4,), 'min_samples_split': (2,), 'min_samples_leaf':(1, 2, 4)}\n",
    "gbm_clf = GridSearchCV(GradientBoostingClassifier(), param_grid, verbose=2)\n",
    "gbm_clf.fit(X_train2d, y_train1d)\n",
    "gbm_clf.best_params_"
   ]
  },
  {
   "cell_type": "code",
   "execution_count": 17,
   "metadata": {},
   "outputs": [
    {
     "name": "stdout",
     "output_type": "stream",
     "text": [
      "Fitting 5 folds for each of 12 candidates, totalling 60 fits\n",
      "[CV] END learning_rate=0.4, max_depth=2, min_samples_leaf=1, min_samples_split=2, n_estimators=10; total time=  19.2s\n",
      "[CV] END learning_rate=0.4, max_depth=2, min_samples_leaf=1, min_samples_split=2, n_estimators=10; total time=  19.2s\n",
      "[CV] END learning_rate=0.4, max_depth=2, min_samples_leaf=1, min_samples_split=2, n_estimators=10; total time=  19.3s\n",
      "[CV] END learning_rate=0.4, max_depth=2, min_samples_leaf=1, min_samples_split=2, n_estimators=10; total time=  19.3s\n",
      "[CV] END learning_rate=0.4, max_depth=2, min_samples_leaf=1, min_samples_split=2, n_estimators=10; total time=  19.1s\n",
      "[CV] END learning_rate=0.4, max_depth=2, min_samples_leaf=1, min_samples_split=2, n_estimators=50; total time= 1.4min\n",
      "[CV] END learning_rate=0.4, max_depth=2, min_samples_leaf=1, min_samples_split=2, n_estimators=50; total time= 1.4min\n",
      "[CV] END learning_rate=0.4, max_depth=2, min_samples_leaf=1, min_samples_split=2, n_estimators=50; total time= 1.4min\n",
      "[CV] END learning_rate=0.4, max_depth=2, min_samples_leaf=1, min_samples_split=2, n_estimators=50; total time= 1.4min\n",
      "[CV] END learning_rate=0.4, max_depth=2, min_samples_leaf=1, min_samples_split=2, n_estimators=50; total time= 1.5min\n",
      "[CV] END learning_rate=0.4, max_depth=2, min_samples_leaf=1, min_samples_split=2, n_estimators=100; total time= 2.8min\n",
      "[CV] END learning_rate=0.4, max_depth=2, min_samples_leaf=1, min_samples_split=2, n_estimators=100; total time= 3.0min\n",
      "[CV] END learning_rate=0.4, max_depth=2, min_samples_leaf=1, min_samples_split=2, n_estimators=100; total time= 2.8min\n",
      "[CV] END learning_rate=0.4, max_depth=2, min_samples_leaf=1, min_samples_split=2, n_estimators=100; total time= 2.9min\n",
      "[CV] END learning_rate=0.4, max_depth=2, min_samples_leaf=1, min_samples_split=2, n_estimators=100; total time= 3.0min\n",
      "[CV] END learning_rate=0.4, max_depth=2, min_samples_leaf=1, min_samples_split=2, n_estimators=200; total time= 5.8min\n",
      "[CV] END learning_rate=0.4, max_depth=2, min_samples_leaf=1, min_samples_split=2, n_estimators=200; total time= 5.5min\n",
      "[CV] END learning_rate=0.4, max_depth=2, min_samples_leaf=1, min_samples_split=2, n_estimators=200; total time= 5.5min\n",
      "[CV] END learning_rate=0.4, max_depth=2, min_samples_leaf=1, min_samples_split=2, n_estimators=200; total time= 5.4min\n",
      "[CV] END learning_rate=0.4, max_depth=2, min_samples_leaf=1, min_samples_split=2, n_estimators=200; total time= 5.5min\n",
      "[CV] END learning_rate=0.4, max_depth=2, min_samples_leaf=1, min_samples_split=2, n_estimators=300; total time= 8.1min\n",
      "[CV] END learning_rate=0.4, max_depth=2, min_samples_leaf=1, min_samples_split=2, n_estimators=300; total time= 8.1min\n",
      "[CV] END learning_rate=0.4, max_depth=2, min_samples_leaf=1, min_samples_split=2, n_estimators=300; total time= 8.2min\n",
      "[CV] END learning_rate=0.4, max_depth=2, min_samples_leaf=1, min_samples_split=2, n_estimators=300; total time= 8.2min\n",
      "[CV] END learning_rate=0.4, max_depth=2, min_samples_leaf=1, min_samples_split=2, n_estimators=300; total time= 8.3min\n",
      "[CV] END learning_rate=0.4, max_depth=2, min_samples_leaf=1, min_samples_split=2, n_estimators=400; total time=10.8min\n",
      "[CV] END learning_rate=0.4, max_depth=2, min_samples_leaf=1, min_samples_split=2, n_estimators=400; total time=11.0min\n",
      "[CV] END learning_rate=0.4, max_depth=2, min_samples_leaf=1, min_samples_split=2, n_estimators=400; total time=10.8min\n",
      "[CV] END learning_rate=0.4, max_depth=2, min_samples_leaf=1, min_samples_split=2, n_estimators=400; total time=10.8min\n",
      "[CV] END learning_rate=0.4, max_depth=2, min_samples_leaf=1, min_samples_split=2, n_estimators=400; total time=10.8min\n",
      "[CV] END learning_rate=0.4, max_depth=4, min_samples_leaf=1, min_samples_split=2, n_estimators=10; total time=  32.0s\n",
      "[CV] END learning_rate=0.4, max_depth=4, min_samples_leaf=1, min_samples_split=2, n_estimators=10; total time=  32.1s\n",
      "[CV] END learning_rate=0.4, max_depth=4, min_samples_leaf=1, min_samples_split=2, n_estimators=10; total time=  32.1s\n",
      "[CV] END learning_rate=0.4, max_depth=4, min_samples_leaf=1, min_samples_split=2, n_estimators=10; total time=  32.3s\n",
      "[CV] END learning_rate=0.4, max_depth=4, min_samples_leaf=1, min_samples_split=2, n_estimators=10; total time=  31.8s\n",
      "[CV] END learning_rate=0.4, max_depth=4, min_samples_leaf=1, min_samples_split=2, n_estimators=50; total time= 2.7min\n",
      "[CV] END learning_rate=0.4, max_depth=4, min_samples_leaf=1, min_samples_split=2, n_estimators=50; total time= 2.7min\n",
      "[CV] END learning_rate=0.4, max_depth=4, min_samples_leaf=1, min_samples_split=2, n_estimators=50; total time= 2.7min\n",
      "[CV] END learning_rate=0.4, max_depth=4, min_samples_leaf=1, min_samples_split=2, n_estimators=50; total time= 2.7min\n",
      "[CV] END learning_rate=0.4, max_depth=4, min_samples_leaf=1, min_samples_split=2, n_estimators=50; total time= 2.7min\n",
      "[CV] END learning_rate=0.4, max_depth=4, min_samples_leaf=1, min_samples_split=2, n_estimators=100; total time= 5.3min\n",
      "[CV] END learning_rate=0.4, max_depth=4, min_samples_leaf=1, min_samples_split=2, n_estimators=100; total time= 5.3min\n",
      "[CV] END learning_rate=0.4, max_depth=4, min_samples_leaf=1, min_samples_split=2, n_estimators=100; total time= 5.4min\n",
      "[CV] END learning_rate=0.4, max_depth=4, min_samples_leaf=1, min_samples_split=2, n_estimators=100; total time= 5.4min\n",
      "[CV] END learning_rate=0.4, max_depth=4, min_samples_leaf=1, min_samples_split=2, n_estimators=100; total time= 5.4min\n",
      "[CV] END learning_rate=0.4, max_depth=4, min_samples_leaf=1, min_samples_split=2, n_estimators=200; total time=10.8min\n",
      "[CV] END learning_rate=0.4, max_depth=4, min_samples_leaf=1, min_samples_split=2, n_estimators=200; total time=10.7min\n",
      "[CV] END learning_rate=0.4, max_depth=4, min_samples_leaf=1, min_samples_split=2, n_estimators=200; total time=10.8min\n",
      "[CV] END learning_rate=0.4, max_depth=4, min_samples_leaf=1, min_samples_split=2, n_estimators=200; total time=10.8min\n",
      "[CV] END learning_rate=0.4, max_depth=4, min_samples_leaf=1, min_samples_split=2, n_estimators=200; total time=10.7min\n",
      "[CV] END learning_rate=0.4, max_depth=4, min_samples_leaf=1, min_samples_split=2, n_estimators=300; total time=16.1min\n",
      "[CV] END learning_rate=0.4, max_depth=4, min_samples_leaf=1, min_samples_split=2, n_estimators=300; total time=16.0min\n",
      "[CV] END learning_rate=0.4, max_depth=4, min_samples_leaf=1, min_samples_split=2, n_estimators=300; total time=16.2min\n",
      "[CV] END learning_rate=0.4, max_depth=4, min_samples_leaf=1, min_samples_split=2, n_estimators=300; total time=16.3min\n",
      "[CV] END learning_rate=0.4, max_depth=4, min_samples_leaf=1, min_samples_split=2, n_estimators=300; total time=16.1min\n",
      "[CV] END learning_rate=0.4, max_depth=4, min_samples_leaf=1, min_samples_split=2, n_estimators=400; total time=21.5min\n",
      "[CV] END learning_rate=0.4, max_depth=4, min_samples_leaf=1, min_samples_split=2, n_estimators=400; total time=21.5min\n",
      "[CV] END learning_rate=0.4, max_depth=4, min_samples_leaf=1, min_samples_split=2, n_estimators=400; total time=21.6min\n",
      "[CV] END learning_rate=0.4, max_depth=4, min_samples_leaf=1, min_samples_split=2, n_estimators=400; total time=21.6min\n",
      "[CV] END learning_rate=0.4, max_depth=4, min_samples_leaf=1, min_samples_split=2, n_estimators=400; total time=21.5min\n"
     ]
    },
    {
     "data": {
      "text/plain": [
       "array([[3877,    0,    0],\n",
       "       [   0, 1104,    0],\n",
       "       [   0,    0, 1319]], dtype=int64)"
      ]
     },
     "execution_count": 17,
     "metadata": {},
     "output_type": "execute_result"
    }
   ],
   "source": [
    "param_grid = {'learning_rate': (0.4,), 'n_estimators':(10, 50, 100, 200, 300, 400),\n",
    "              'min_samples_split': (2,), 'min_samples_leaf':(1,),\n",
    "              'max_depth':(2, 4)}\n",
    "\n",
    "gbm_clf = GridSearchCV(GradientBoostingClassifier(), param_grid, refit=True, cv=5, verbose=2)\n",
    "gbm_clf.fit(X_train2d, y_train1d)\n",
    "predictions = gbm_clf.predict(X_train2d)\n",
    "confusion_matrix(y_train1d, predictions)"
   ]
  },
  {
   "cell_type": "code",
   "execution_count": 18,
   "metadata": {},
   "outputs": [
    {
     "data": {
      "text/plain": [
       "{'learning_rate': 0.4,\n",
       " 'max_depth': 4,\n",
       " 'min_samples_leaf': 1,\n",
       " 'min_samples_split': 2,\n",
       " 'n_estimators': 400}"
      ]
     },
     "execution_count": 18,
     "metadata": {},
     "output_type": "execute_result"
    }
   ],
   "source": [
    "gbm_clf.best_params_"
   ]
  },
  {
   "cell_type": "code",
   "execution_count": 24,
   "metadata": {},
   "outputs": [
    {
     "data": {
      "text/plain": [
       "[<matplotlib.lines.Line2D at 0x2504ed79f10>]"
      ]
     },
     "execution_count": 24,
     "metadata": {},
     "output_type": "execute_result"
    },
    {
     "data": {
      "image/png": "[encoded data removed]",
      "text/plain": [
       "<Figure size 640x480 with 1 Axes>"
      ]
     },
     "metadata": {},
     "output_type": "display_data"
    }
   ],
   "source": [
    "from sklearn.metrics import f1_score\n",
    "\n",
    "n_estimators_values = (10, 50, 100, 200, 300, 400)\n",
    "\n",
    "train_score, test_score = [], []\n",
    "for n_estimators in n_estimators_values:\n",
    "    gbm_clf = GradientBoostingClassifier(learning_rate=0.4, max_depth=4, min_samples_leaf=1, min_samples_split=2, n_estimators=n_estimators)\n",
    "    gbm_clf.fit(X_train2d, y_train1d)\n",
    "    predictions = gbm_clf.predict(X_train2d)\n",
    "    train_f1 = f1_score(y_train1d, predictions, average='weighted')\n",
    "    train_score.append(train_f1)\n",
    "    predictions = gbm_clf.predict(X_test2d)\n",
    "    test_f1 = f1_score(y_test_1d, predictions, average='weighted')\n",
    "    test_score.append(test_f1)\n",
    "plt.plot(n_estimators_values, train_score, c='b')\n",
    "plt.plot(n_estimators_values, test_score, c='r')"
   ]
  },
  {
   "cell_type": "code",
   "execution_count": 25,
   "metadata": {},
   "outputs": [
    {
     "data": {
      "text/plain": [
       "[<matplotlib.lines.Line2D at 0x2504efc5110>]"
      ]
     },
     "execution_count": 25,
     "metadata": {},
     "output_type": "execute_result"
    },
    {
     "data": {
      "image/png": "[encoded data removed]",
      "text/plain": [
       "<Figure size 640x480 with 1 Axes>"
      ]
     },
     "metadata": {},
     "output_type": "display_data"
    }
   ],
   "source": [
    "n_estimators_values = (300, 400, 500, 600)\n",
    "\n",
    "train_score, test_score = [], []\n",
    "for n_estimators in n_estimators_values:\n",
    "    gbm_clf = GradientBoostingClassifier(learning_rate=0.4, max_depth=4, min_samples_leaf=1, min_samples_split=2, n_estimators=n_estimators)\n",
    "    gbm_clf.fit(X_train2d, y_train1d)\n",
    "    predictions = gbm_clf.predict(X_train2d)\n",
    "    train_f1 = f1_score(y_train1d, predictions, average='weighted')\n",
    "    train_score.append(train_f1)\n",
    "    predictions = gbm_clf.predict(X_test2d)\n",
    "    test_f1 = f1_score(y_test_1d, predictions, average='weighted')\n",
    "    test_score.append(test_f1)\n",
    "plt.plot(n_estimators_values, train_score, c='b')\n",
    "plt.plot(n_estimators_values, test_score, c='r')"
   ]
  },
  {
   "cell_type": "code",
   "execution_count": 26,
   "metadata": {},
   "outputs": [
    {
     "data": {
      "text/plain": [
       "array([[3877,    0,    0],\n",
       "       [   0, 1104,    0],\n",
       "       [   0,    0, 1319]], dtype=int64)"
      ]
     },
     "execution_count": 26,
     "metadata": {},
     "output_type": "execute_result"
    }
   ],
   "source": [
    "gbm_clf = GradientBoostingClassifier(learning_rate=0.4, max_depth=4, min_samples_leaf=1, min_samples_split=2, n_estimators=600)\n",
    "gbm_clf.fit(X_train2d, y_train1d)\n",
    "predictions = gbm_clf.predict(X_train2d)\n",
    "confusion_matrix(y_train1d, predictions)"
   ]
  },
  {
   "cell_type": "code",
   "execution_count": 27,
   "metadata": {},
   "outputs": [
    {
     "data": {
      "text/plain": [
       "array([[1263,    6,   10],\n",
       "       [  50,  352,    0],\n",
       "       [  46,    0,  373]], dtype=int64)"
      ]
     },
     "execution_count": 27,
     "metadata": {},
     "output_type": "execute_result"
    }
   ],
   "source": [
    "predictions = gbm_clf.predict(X_test2d)\n",
    "confusion_matrix(y_test_1d, predictions)"
   ]
  },
  {
   "cell_type": "markdown",
   "metadata": {},
   "source": [
    "### LightGBM"
   ]
  },
  {
   "cell_type": "code",
   "execution_count": 33,
   "metadata": {},
   "outputs": [
    {
     "name": "stdout",
     "output_type": "stream",
     "text": [
      "Fitting 5 folds for each of 60 candidates, totalling 300 fits\n",
      "[CV] END .learning_rate=0.01, max_depth=1, max_leaf_nodes=10; total time=   0.6s\n",
      "[CV] END .learning_rate=0.01, max_depth=1, max_leaf_nodes=10; total time=   0.6s\n",
      "[CV] END .learning_rate=0.01, max_depth=1, max_leaf_nodes=10; total time=   0.6s\n",
      "[CV] END .learning_rate=0.01, max_depth=1, max_leaf_nodes=10; total time=   0.6s\n",
      "[CV] END .learning_rate=0.01, max_depth=1, max_leaf_nodes=10; total time=   0.6s\n",
      "[CV] END .learning_rate=0.01, max_depth=1, max_leaf_nodes=20; total time=   0.6s\n",
      "[CV] END .learning_rate=0.01, max_depth=1, max_leaf_nodes=20; total time=   0.6s\n",
      "[CV] END .learning_rate=0.01, max_depth=1, max_leaf_nodes=20; total time=   0.6s\n",
      "[CV] END .learning_rate=0.01, max_depth=1, max_leaf_nodes=20; total time=   0.6s\n",
      "[CV] END .learning_rate=0.01, max_depth=1, max_leaf_nodes=20; total time=   0.6s\n",
      "[CV] END .learning_rate=0.01, max_depth=1, max_leaf_nodes=30; total time=   0.6s\n",
      "[CV] END .learning_rate=0.01, max_depth=1, max_leaf_nodes=30; total time=   0.6s\n",
      "[CV] END .learning_rate=0.01, max_depth=1, max_leaf_nodes=30; total time=   0.6s\n",
      "[CV] END .learning_rate=0.01, max_depth=1, max_leaf_nodes=30; total time=   0.6s\n",
      "[CV] END .learning_rate=0.01, max_depth=1, max_leaf_nodes=30; total time=   0.6s\n",
      "[CV] END .learning_rate=0.01, max_depth=1, max_leaf_nodes=40; total time=   0.6s\n",
      "[CV] END .learning_rate=0.01, max_depth=1, max_leaf_nodes=40; total time=   0.6s\n",
      "[CV] END .learning_rate=0.01, max_depth=1, max_leaf_nodes=40; total time=   0.6s\n",
      "[CV] END .learning_rate=0.01, max_depth=1, max_leaf_nodes=40; total time=   0.6s\n",
      "[CV] END .learning_rate=0.01, max_depth=1, max_leaf_nodes=40; total time=   0.6s\n",
      "[CV] END .learning_rate=0.01, max_depth=2, max_leaf_nodes=10; total time=   1.2s\n",
      "[CV] END .learning_rate=0.01, max_depth=2, max_leaf_nodes=10; total time=   1.3s\n",
      "[CV] END .learning_rate=0.01, max_depth=2, max_leaf_nodes=10; total time=   1.3s\n",
      "[CV] END .learning_rate=0.01, max_depth=2, max_leaf_nodes=10; total time=   1.3s\n",
      "[CV] END .learning_rate=0.01, max_depth=2, max_leaf_nodes=10; total time=   1.3s\n",
      "[CV] END .learning_rate=0.01, max_depth=2, max_leaf_nodes=20; total time=   1.3s\n",
      "[CV] END .learning_rate=0.01, max_depth=2, max_leaf_nodes=20; total time=   1.3s\n",
      "[CV] END .learning_rate=0.01, max_depth=2, max_leaf_nodes=20; total time=   1.3s\n",
      "[CV] END .learning_rate=0.01, max_depth=2, max_leaf_nodes=20; total time=   1.3s\n",
      "[CV] END .learning_rate=0.01, max_depth=2, max_leaf_nodes=20; total time=   1.3s\n",
      "[CV] END .learning_rate=0.01, max_depth=2, max_leaf_nodes=30; total time=   1.4s\n",
      "[CV] END .learning_rate=0.01, max_depth=2, max_leaf_nodes=30; total time=   1.4s\n",
      "[CV] END .learning_rate=0.01, max_depth=2, max_leaf_nodes=30; total time=   1.4s\n",
      "[CV] END .learning_rate=0.01, max_depth=2, max_leaf_nodes=30; total time=   1.4s\n",
      "[CV] END .learning_rate=0.01, max_depth=2, max_leaf_nodes=30; total time=   1.4s\n",
      "[CV] END .learning_rate=0.01, max_depth=2, max_leaf_nodes=40; total time=   1.4s\n",
      "[CV] END .learning_rate=0.01, max_depth=2, max_leaf_nodes=40; total time=   1.4s\n",
      "[CV] END .learning_rate=0.01, max_depth=2, max_leaf_nodes=40; total time=   1.4s\n",
      "[CV] END .learning_rate=0.01, max_depth=2, max_leaf_nodes=40; total time=   1.4s\n",
      "[CV] END .learning_rate=0.01, max_depth=2, max_leaf_nodes=40; total time=   1.4s\n",
      "[CV] END .learning_rate=0.01, max_depth=4, max_leaf_nodes=10; total time=   4.2s\n",
      "[CV] END .learning_rate=0.01, max_depth=4, max_leaf_nodes=10; total time=   4.3s\n",
      "[CV] END .learning_rate=0.01, max_depth=4, max_leaf_nodes=10; total time=   4.2s\n",
      "[CV] END .learning_rate=0.01, max_depth=4, max_leaf_nodes=10; total time=   4.3s\n",
      "[CV] END .learning_rate=0.01, max_depth=4, max_leaf_nodes=10; total time=   4.2s\n",
      "[CV] END .learning_rate=0.01, max_depth=4, max_leaf_nodes=20; total time=   4.9s\n",
      "[CV] END .learning_rate=0.01, max_depth=4, max_leaf_nodes=20; total time=   4.7s\n",
      "[CV] END .learning_rate=0.01, max_depth=4, max_leaf_nodes=20; total time=   4.7s\n",
      "[CV] END .learning_rate=0.01, max_depth=4, max_leaf_nodes=20; total time=   4.6s\n",
      "[CV] END .learning_rate=0.01, max_depth=4, max_leaf_nodes=20; total time=   4.5s\n",
      "[CV] END .learning_rate=0.01, max_depth=4, max_leaf_nodes=30; total time=   4.5s\n",
      "[CV] END .learning_rate=0.01, max_depth=4, max_leaf_nodes=30; total time=   4.6s\n",
      "[CV] END .learning_rate=0.01, max_depth=4, max_leaf_nodes=30; total time=   4.6s\n",
      "[CV] END .learning_rate=0.01, max_depth=4, max_leaf_nodes=30; total time=   4.7s\n",
      "[CV] END .learning_rate=0.01, max_depth=4, max_leaf_nodes=30; total time=   4.6s\n",
      "[CV] END .learning_rate=0.01, max_depth=4, max_leaf_nodes=40; total time=   4.6s\n",
      "[CV] END .learning_rate=0.01, max_depth=4, max_leaf_nodes=40; total time=   4.7s\n",
      "[CV] END .learning_rate=0.01, max_depth=4, max_leaf_nodes=40; total time=   4.7s\n",
      "[CV] END .learning_rate=0.01, max_depth=4, max_leaf_nodes=40; total time=   4.7s\n",
      "[CV] END .learning_rate=0.01, max_depth=4, max_leaf_nodes=40; total time=   4.7s\n",
      "[CV] END ..learning_rate=0.1, max_depth=1, max_leaf_nodes=10; total time=   0.7s\n",
      "[CV] END ..learning_rate=0.1, max_depth=1, max_leaf_nodes=10; total time=   0.7s\n",
      "[CV] END ..learning_rate=0.1, max_depth=1, max_leaf_nodes=10; total time=   0.7s\n",
      "[CV] END ..learning_rate=0.1, max_depth=1, max_leaf_nodes=10; total time=   0.7s\n",
      "[CV] END ..learning_rate=0.1, max_depth=1, max_leaf_nodes=10; total time=   0.7s\n",
      "[CV] END ..learning_rate=0.1, max_depth=1, max_leaf_nodes=20; total time=   0.7s\n",
      "[CV] END ..learning_rate=0.1, max_depth=1, max_leaf_nodes=20; total time=   0.7s\n",
      "[CV] END ..learning_rate=0.1, max_depth=1, max_leaf_nodes=20; total time=   0.7s\n",
      "[CV] END ..learning_rate=0.1, max_depth=1, max_leaf_nodes=20; total time=   0.7s\n",
      "[CV] END ..learning_rate=0.1, max_depth=1, max_leaf_nodes=20; total time=   0.7s\n",
      "[CV] END ..learning_rate=0.1, max_depth=1, max_leaf_nodes=30; total time=   0.7s\n",
      "[CV] END ..learning_rate=0.1, max_depth=1, max_leaf_nodes=30; total time=   0.7s\n",
      "[CV] END ..learning_rate=0.1, max_depth=1, max_leaf_nodes=30; total time=   0.7s\n",
      "[CV] END ..learning_rate=0.1, max_depth=1, max_leaf_nodes=30; total time=   0.7s\n",
      "[CV] END ..learning_rate=0.1, max_depth=1, max_leaf_nodes=30; total time=   0.7s\n",
      "[CV] END ..learning_rate=0.1, max_depth=1, max_leaf_nodes=40; total time=   0.7s\n",
      "[CV] END ..learning_rate=0.1, max_depth=1, max_leaf_nodes=40; total time=   0.7s\n",
      "[CV] END ..learning_rate=0.1, max_depth=1, max_leaf_nodes=40; total time=   0.7s\n",
      "[CV] END ..learning_rate=0.1, max_depth=1, max_leaf_nodes=40; total time=   0.7s\n",
      "[CV] END ..learning_rate=0.1, max_depth=1, max_leaf_nodes=40; total time=   0.7s\n",
      "[CV] END ..learning_rate=0.1, max_depth=2, max_leaf_nodes=10; total time=   1.4s\n",
      "[CV] END ..learning_rate=0.1, max_depth=2, max_leaf_nodes=10; total time=   1.4s\n",
      "[CV] END ..learning_rate=0.1, max_depth=2, max_leaf_nodes=10; total time=   1.4s\n",
      "[CV] END ..learning_rate=0.1, max_depth=2, max_leaf_nodes=10; total time=   1.4s\n",
      "[CV] END ..learning_rate=0.1, max_depth=2, max_leaf_nodes=10; total time=   1.4s\n",
      "[CV] END ..learning_rate=0.1, max_depth=2, max_leaf_nodes=20; total time=   1.4s\n",
      "[CV] END ..learning_rate=0.1, max_depth=2, max_leaf_nodes=20; total time=   1.4s\n",
      "[CV] END ..learning_rate=0.1, max_depth=2, max_leaf_nodes=20; total time=   1.4s\n",
      "[CV] END ..learning_rate=0.1, max_depth=2, max_leaf_nodes=20; total time=   1.4s\n",
      "[CV] END ..learning_rate=0.1, max_depth=2, max_leaf_nodes=20; total time=   1.4s\n",
      "[CV] END ..learning_rate=0.1, max_depth=2, max_leaf_nodes=30; total time=   1.4s\n",
      "[CV] END ..learning_rate=0.1, max_depth=2, max_leaf_nodes=30; total time=   1.4s\n",
      "[CV] END ..learning_rate=0.1, max_depth=2, max_leaf_nodes=30; total time=   1.4s\n",
      "[CV] END ..learning_rate=0.1, max_depth=2, max_leaf_nodes=30; total time=   1.4s\n",
      "[CV] END ..learning_rate=0.1, max_depth=2, max_leaf_nodes=30; total time=   1.4s\n",
      "[CV] END ..learning_rate=0.1, max_depth=2, max_leaf_nodes=40; total time=   1.4s\n",
      "[CV] END ..learning_rate=0.1, max_depth=2, max_leaf_nodes=40; total time=   1.4s\n",
      "[CV] END ..learning_rate=0.1, max_depth=2, max_leaf_nodes=40; total time=   1.4s\n",
      "[CV] END ..learning_rate=0.1, max_depth=2, max_leaf_nodes=40; total time=   1.4s\n",
      "[CV] END ..learning_rate=0.1, max_depth=2, max_leaf_nodes=40; total time=   1.4s\n",
      "[CV] END ..learning_rate=0.1, max_depth=4, max_leaf_nodes=10; total time=   4.1s\n",
      "[CV] END ..learning_rate=0.1, max_depth=4, max_leaf_nodes=10; total time=   4.2s\n",
      "[CV] END ..learning_rate=0.1, max_depth=4, max_leaf_nodes=10; total time=   4.3s\n",
      "[CV] END ..learning_rate=0.1, max_depth=4, max_leaf_nodes=10; total time=   4.2s\n",
      "[CV] END ..learning_rate=0.1, max_depth=4, max_leaf_nodes=10; total time=   4.2s\n",
      "[CV] END ..learning_rate=0.1, max_depth=4, max_leaf_nodes=20; total time=   5.4s\n",
      "[CV] END ..learning_rate=0.1, max_depth=4, max_leaf_nodes=20; total time=   5.5s\n",
      "[CV] END ..learning_rate=0.1, max_depth=4, max_leaf_nodes=20; total time=   5.5s\n",
      "[CV] END ..learning_rate=0.1, max_depth=4, max_leaf_nodes=20; total time=   5.4s\n",
      "[CV] END ..learning_rate=0.1, max_depth=4, max_leaf_nodes=20; total time=   5.5s\n",
      "[CV] END ..learning_rate=0.1, max_depth=4, max_leaf_nodes=30; total time=   5.4s\n",
      "[CV] END ..learning_rate=0.1, max_depth=4, max_leaf_nodes=30; total time=   5.5s\n",
      "[CV] END ..learning_rate=0.1, max_depth=4, max_leaf_nodes=30; total time=   5.4s\n",
      "[CV] END ..learning_rate=0.1, max_depth=4, max_leaf_nodes=30; total time=   5.4s\n",
      "[CV] END ..learning_rate=0.1, max_depth=4, max_leaf_nodes=30; total time=   5.4s\n",
      "[CV] END ..learning_rate=0.1, max_depth=4, max_leaf_nodes=40; total time=   5.3s\n",
      "[CV] END ..learning_rate=0.1, max_depth=4, max_leaf_nodes=40; total time=   5.3s\n",
      "[CV] END ..learning_rate=0.1, max_depth=4, max_leaf_nodes=40; total time=   5.3s\n",
      "[CV] END ..learning_rate=0.1, max_depth=4, max_leaf_nodes=40; total time=   5.6s\n",
      "[CV] END ..learning_rate=0.1, max_depth=4, max_leaf_nodes=40; total time=   5.5s\n",
      "[CV] END ..learning_rate=0.4, max_depth=1, max_leaf_nodes=10; total time=   0.8s\n",
      "[CV] END ..learning_rate=0.4, max_depth=1, max_leaf_nodes=10; total time=   0.8s\n",
      "[CV] END ..learning_rate=0.4, max_depth=1, max_leaf_nodes=10; total time=   0.8s\n",
      "[CV] END ..learning_rate=0.4, max_depth=1, max_leaf_nodes=10; total time=   0.8s\n",
      "[CV] END ..learning_rate=0.4, max_depth=1, max_leaf_nodes=10; total time=   0.7s\n",
      "[CV] END ..learning_rate=0.4, max_depth=1, max_leaf_nodes=20; total time=   0.8s\n",
      "[CV] END ..learning_rate=0.4, max_depth=1, max_leaf_nodes=20; total time=   0.7s\n",
      "[CV] END ..learning_rate=0.4, max_depth=1, max_leaf_nodes=20; total time=   0.8s\n",
      "[CV] END ..learning_rate=0.4, max_depth=1, max_leaf_nodes=20; total time=   0.7s\n",
      "[CV] END ..learning_rate=0.4, max_depth=1, max_leaf_nodes=20; total time=   0.7s\n",
      "[CV] END ..learning_rate=0.4, max_depth=1, max_leaf_nodes=30; total time=   0.7s\n",
      "[CV] END ..learning_rate=0.4, max_depth=1, max_leaf_nodes=30; total time=   0.8s\n",
      "[CV] END ..learning_rate=0.4, max_depth=1, max_leaf_nodes=30; total time=   0.8s\n",
      "[CV] END ..learning_rate=0.4, max_depth=1, max_leaf_nodes=30; total time=   0.8s\n",
      "[CV] END ..learning_rate=0.4, max_depth=1, max_leaf_nodes=30; total time=   0.8s\n",
      "[CV] END ..learning_rate=0.4, max_depth=1, max_leaf_nodes=40; total time=   0.8s\n",
      "[CV] END ..learning_rate=0.4, max_depth=1, max_leaf_nodes=40; total time=   0.8s\n",
      "[CV] END ..learning_rate=0.4, max_depth=1, max_leaf_nodes=40; total time=   0.7s\n",
      "[CV] END ..learning_rate=0.4, max_depth=1, max_leaf_nodes=40; total time=   0.7s\n",
      "[CV] END ..learning_rate=0.4, max_depth=1, max_leaf_nodes=40; total time=   0.7s\n",
      "[CV] END ..learning_rate=0.4, max_depth=2, max_leaf_nodes=10; total time=   1.6s\n",
      "[CV] END ..learning_rate=0.4, max_depth=2, max_leaf_nodes=10; total time=   1.5s\n",
      "[CV] END ..learning_rate=0.4, max_depth=2, max_leaf_nodes=10; total time=   1.5s\n",
      "[CV] END ..learning_rate=0.4, max_depth=2, max_leaf_nodes=10; total time=   1.6s\n",
      "[CV] END ..learning_rate=0.4, max_depth=2, max_leaf_nodes=10; total time=   1.5s\n",
      "[CV] END ..learning_rate=0.4, max_depth=2, max_leaf_nodes=20; total time=   1.5s\n",
      "[CV] END ..learning_rate=0.4, max_depth=2, max_leaf_nodes=20; total time=   1.5s\n",
      "[CV] END ..learning_rate=0.4, max_depth=2, max_leaf_nodes=20; total time=   1.5s\n",
      "[CV] END ..learning_rate=0.4, max_depth=2, max_leaf_nodes=20; total time=   1.5s\n",
      "[CV] END ..learning_rate=0.4, max_depth=2, max_leaf_nodes=20; total time=   1.5s\n",
      "[CV] END ..learning_rate=0.4, max_depth=2, max_leaf_nodes=30; total time=   1.5s\n",
      "[CV] END ..learning_rate=0.4, max_depth=2, max_leaf_nodes=30; total time=   1.5s\n",
      "[CV] END ..learning_rate=0.4, max_depth=2, max_leaf_nodes=30; total time=   1.6s\n",
      "[CV] END ..learning_rate=0.4, max_depth=2, max_leaf_nodes=30; total time=   1.5s\n",
      "[CV] END ..learning_rate=0.4, max_depth=2, max_leaf_nodes=30; total time=   1.5s\n",
      "[CV] END ..learning_rate=0.4, max_depth=2, max_leaf_nodes=40; total time=   1.5s\n",
      "[CV] END ..learning_rate=0.4, max_depth=2, max_leaf_nodes=40; total time=   1.5s\n",
      "[CV] END ..learning_rate=0.4, max_depth=2, max_leaf_nodes=40; total time=   1.5s\n",
      "[CV] END ..learning_rate=0.4, max_depth=2, max_leaf_nodes=40; total time=   1.5s\n",
      "[CV] END ..learning_rate=0.4, max_depth=2, max_leaf_nodes=40; total time=   1.5s\n",
      "[CV] END ..learning_rate=0.4, max_depth=4, max_leaf_nodes=10; total time=   4.7s\n",
      "[CV] END ..learning_rate=0.4, max_depth=4, max_leaf_nodes=10; total time=   4.7s\n",
      "[CV] END ..learning_rate=0.4, max_depth=4, max_leaf_nodes=10; total time=   4.7s\n",
      "[CV] END ..learning_rate=0.4, max_depth=4, max_leaf_nodes=10; total time=   4.7s\n",
      "[CV] END ..learning_rate=0.4, max_depth=4, max_leaf_nodes=10; total time=   4.7s\n",
      "[CV] END ..learning_rate=0.4, max_depth=4, max_leaf_nodes=20; total time=   5.8s\n",
      "[CV] END ..learning_rate=0.4, max_depth=4, max_leaf_nodes=20; total time=   5.7s\n",
      "[CV] END ..learning_rate=0.4, max_depth=4, max_leaf_nodes=20; total time=   5.7s\n",
      "[CV] END ..learning_rate=0.4, max_depth=4, max_leaf_nodes=20; total time=   5.7s\n",
      "[CV] END ..learning_rate=0.4, max_depth=4, max_leaf_nodes=20; total time=   5.7s\n",
      "[CV] END ..learning_rate=0.4, max_depth=4, max_leaf_nodes=30; total time=   5.8s\n",
      "[CV] END ..learning_rate=0.4, max_depth=4, max_leaf_nodes=30; total time=   5.7s\n",
      "[CV] END ..learning_rate=0.4, max_depth=4, max_leaf_nodes=30; total time=   5.7s\n",
      "[CV] END ..learning_rate=0.4, max_depth=4, max_leaf_nodes=30; total time=   5.8s\n",
      "[CV] END ..learning_rate=0.4, max_depth=4, max_leaf_nodes=30; total time=   5.7s\n",
      "[CV] END ..learning_rate=0.4, max_depth=4, max_leaf_nodes=40; total time=   5.8s\n",
      "[CV] END ..learning_rate=0.4, max_depth=4, max_leaf_nodes=40; total time=   5.7s\n",
      "[CV] END ..learning_rate=0.4, max_depth=4, max_leaf_nodes=40; total time=   5.7s\n",
      "[CV] END ..learning_rate=0.4, max_depth=4, max_leaf_nodes=40; total time=   5.9s\n",
      "[CV] END ..learning_rate=0.4, max_depth=4, max_leaf_nodes=40; total time=   5.7s\n",
      "[CV] END ..learning_rate=0.8, max_depth=1, max_leaf_nodes=10; total time=   0.8s\n",
      "[CV] END ..learning_rate=0.8, max_depth=1, max_leaf_nodes=10; total time=   0.7s\n",
      "[CV] END ..learning_rate=0.8, max_depth=1, max_leaf_nodes=10; total time=   0.8s\n",
      "[CV] END ..learning_rate=0.8, max_depth=1, max_leaf_nodes=10; total time=   0.8s\n",
      "[CV] END ..learning_rate=0.8, max_depth=1, max_leaf_nodes=10; total time=   0.8s\n",
      "[CV] END ..learning_rate=0.8, max_depth=1, max_leaf_nodes=20; total time=   0.8s\n",
      "[CV] END ..learning_rate=0.8, max_depth=1, max_leaf_nodes=20; total time=   0.7s\n",
      "[CV] END ..learning_rate=0.8, max_depth=1, max_leaf_nodes=20; total time=   0.7s\n",
      "[CV] END ..learning_rate=0.8, max_depth=1, max_leaf_nodes=20; total time=   0.8s\n",
      "[CV] END ..learning_rate=0.8, max_depth=1, max_leaf_nodes=20; total time=   0.8s\n",
      "[CV] END ..learning_rate=0.8, max_depth=1, max_leaf_nodes=30; total time=   0.8s\n",
      "[CV] END ..learning_rate=0.8, max_depth=1, max_leaf_nodes=30; total time=   0.8s\n",
      "[CV] END ..learning_rate=0.8, max_depth=1, max_leaf_nodes=30; total time=   0.8s\n",
      "[CV] END ..learning_rate=0.8, max_depth=1, max_leaf_nodes=30; total time=   0.8s\n",
      "[CV] END ..learning_rate=0.8, max_depth=1, max_leaf_nodes=30; total time=   0.8s\n",
      "[CV] END ..learning_rate=0.8, max_depth=1, max_leaf_nodes=40; total time=   0.8s\n",
      "[CV] END ..learning_rate=0.8, max_depth=1, max_leaf_nodes=40; total time=   0.7s\n",
      "[CV] END ..learning_rate=0.8, max_depth=1, max_leaf_nodes=40; total time=   0.8s\n",
      "[CV] END ..learning_rate=0.8, max_depth=1, max_leaf_nodes=40; total time=   0.8s\n",
      "[CV] END ..learning_rate=0.8, max_depth=1, max_leaf_nodes=40; total time=   0.8s\n",
      "[CV] END ..learning_rate=0.8, max_depth=2, max_leaf_nodes=10; total time=   1.5s\n",
      "[CV] END ..learning_rate=0.8, max_depth=2, max_leaf_nodes=10; total time=   1.5s\n",
      "[CV] END ..learning_rate=0.8, max_depth=2, max_leaf_nodes=10; total time=   1.5s\n",
      "[CV] END ..learning_rate=0.8, max_depth=2, max_leaf_nodes=10; total time=   1.5s\n",
      "[CV] END ..learning_rate=0.8, max_depth=2, max_leaf_nodes=10; total time=   1.5s\n",
      "[CV] END ..learning_rate=0.8, max_depth=2, max_leaf_nodes=20; total time=   1.5s\n",
      "[CV] END ..learning_rate=0.8, max_depth=2, max_leaf_nodes=20; total time=   1.5s\n",
      "[CV] END ..learning_rate=0.8, max_depth=2, max_leaf_nodes=20; total time=   1.5s\n",
      "[CV] END ..learning_rate=0.8, max_depth=2, max_leaf_nodes=20; total time=   1.5s\n",
      "[CV] END ..learning_rate=0.8, max_depth=2, max_leaf_nodes=20; total time=   1.5s\n",
      "[CV] END ..learning_rate=0.8, max_depth=2, max_leaf_nodes=30; total time=   1.5s\n",
      "[CV] END ..learning_rate=0.8, max_depth=2, max_leaf_nodes=30; total time=   1.5s\n",
      "[CV] END ..learning_rate=0.8, max_depth=2, max_leaf_nodes=30; total time=   1.5s\n",
      "[CV] END ..learning_rate=0.8, max_depth=2, max_leaf_nodes=30; total time=   1.5s\n",
      "[CV] END ..learning_rate=0.8, max_depth=2, max_leaf_nodes=30; total time=   1.5s\n",
      "[CV] END ..learning_rate=0.8, max_depth=2, max_leaf_nodes=40; total time=   1.5s\n",
      "[CV] END ..learning_rate=0.8, max_depth=2, max_leaf_nodes=40; total time=   1.5s\n",
      "[CV] END ..learning_rate=0.8, max_depth=2, max_leaf_nodes=40; total time=   1.5s\n",
      "[CV] END ..learning_rate=0.8, max_depth=2, max_leaf_nodes=40; total time=   1.5s\n",
      "[CV] END ..learning_rate=0.8, max_depth=2, max_leaf_nodes=40; total time=   1.5s\n",
      "[CV] END ..learning_rate=0.8, max_depth=4, max_leaf_nodes=10; total time=   3.3s\n",
      "[CV] END ..learning_rate=0.8, max_depth=4, max_leaf_nodes=10; total time=   3.3s\n",
      "[CV] END ..learning_rate=0.8, max_depth=4, max_leaf_nodes=10; total time=   3.3s\n",
      "[CV] END ..learning_rate=0.8, max_depth=4, max_leaf_nodes=10; total time=   3.3s\n",
      "[CV] END ..learning_rate=0.8, max_depth=4, max_leaf_nodes=10; total time=   3.5s\n",
      "[CV] END ..learning_rate=0.8, max_depth=4, max_leaf_nodes=20; total time=   3.4s\n",
      "[CV] END ..learning_rate=0.8, max_depth=4, max_leaf_nodes=20; total time=   3.3s\n",
      "[CV] END ..learning_rate=0.8, max_depth=4, max_leaf_nodes=20; total time=   3.3s\n",
      "[CV] END ..learning_rate=0.8, max_depth=4, max_leaf_nodes=20; total time=   3.3s\n",
      "[CV] END ..learning_rate=0.8, max_depth=4, max_leaf_nodes=20; total time=   3.3s\n",
      "[CV] END ..learning_rate=0.8, max_depth=4, max_leaf_nodes=30; total time=   3.4s\n",
      "[CV] END ..learning_rate=0.8, max_depth=4, max_leaf_nodes=30; total time=   3.3s\n",
      "[CV] END ..learning_rate=0.8, max_depth=4, max_leaf_nodes=30; total time=   3.3s\n",
      "[CV] END ..learning_rate=0.8, max_depth=4, max_leaf_nodes=30; total time=   3.3s\n",
      "[CV] END ..learning_rate=0.8, max_depth=4, max_leaf_nodes=30; total time=   3.3s\n",
      "[CV] END ..learning_rate=0.8, max_depth=4, max_leaf_nodes=40; total time=   3.4s\n",
      "[CV] END ..learning_rate=0.8, max_depth=4, max_leaf_nodes=40; total time=   3.4s\n",
      "[CV] END ..learning_rate=0.8, max_depth=4, max_leaf_nodes=40; total time=   3.3s\n",
      "[CV] END ..learning_rate=0.8, max_depth=4, max_leaf_nodes=40; total time=   3.3s\n",
      "[CV] END ..learning_rate=0.8, max_depth=4, max_leaf_nodes=40; total time=   3.3s\n",
      "[CV] END ....learning_rate=1, max_depth=1, max_leaf_nodes=10; total time=   0.8s\n",
      "[CV] END ....learning_rate=1, max_depth=1, max_leaf_nodes=10; total time=   0.8s\n",
      "[CV] END ....learning_rate=1, max_depth=1, max_leaf_nodes=10; total time=   0.8s\n",
      "[CV] END ....learning_rate=1, max_depth=1, max_leaf_nodes=10; total time=   0.8s\n",
      "[CV] END ....learning_rate=1, max_depth=1, max_leaf_nodes=10; total time=   0.8s\n",
      "[CV] END ....learning_rate=1, max_depth=1, max_leaf_nodes=20; total time=   0.8s\n",
      "[CV] END ....learning_rate=1, max_depth=1, max_leaf_nodes=20; total time=   0.8s\n",
      "[CV] END ....learning_rate=1, max_depth=1, max_leaf_nodes=20; total time=   0.8s\n",
      "[CV] END ....learning_rate=1, max_depth=1, max_leaf_nodes=20; total time=   0.8s\n",
      "[CV] END ....learning_rate=1, max_depth=1, max_leaf_nodes=20; total time=   0.8s\n",
      "[CV] END ....learning_rate=1, max_depth=1, max_leaf_nodes=30; total time=   0.8s\n",
      "[CV] END ....learning_rate=1, max_depth=1, max_leaf_nodes=30; total time=   0.8s\n",
      "[CV] END ....learning_rate=1, max_depth=1, max_leaf_nodes=30; total time=   0.8s\n",
      "[CV] END ....learning_rate=1, max_depth=1, max_leaf_nodes=30; total time=   0.7s\n",
      "[CV] END ....learning_rate=1, max_depth=1, max_leaf_nodes=30; total time=   0.8s\n",
      "[CV] END ....learning_rate=1, max_depth=1, max_leaf_nodes=40; total time=   0.8s\n",
      "[CV] END ....learning_rate=1, max_depth=1, max_leaf_nodes=40; total time=   0.8s\n",
      "[CV] END ....learning_rate=1, max_depth=1, max_leaf_nodes=40; total time=   0.8s\n",
      "[CV] END ....learning_rate=1, max_depth=1, max_leaf_nodes=40; total time=   0.8s\n",
      "[CV] END ....learning_rate=1, max_depth=1, max_leaf_nodes=40; total time=   0.8s\n",
      "[CV] END ....learning_rate=1, max_depth=2, max_leaf_nodes=10; total time=   1.5s\n",
      "[CV] END ....learning_rate=1, max_depth=2, max_leaf_nodes=10; total time=   1.5s\n",
      "[CV] END ....learning_rate=1, max_depth=2, max_leaf_nodes=10; total time=   1.5s\n",
      "[CV] END ....learning_rate=1, max_depth=2, max_leaf_nodes=10; total time=   1.5s\n",
      "[CV] END ....learning_rate=1, max_depth=2, max_leaf_nodes=10; total time=   1.5s\n",
      "[CV] END ....learning_rate=1, max_depth=2, max_leaf_nodes=20; total time=   1.5s\n",
      "[CV] END ....learning_rate=1, max_depth=2, max_leaf_nodes=20; total time=   1.5s\n",
      "[CV] END ....learning_rate=1, max_depth=2, max_leaf_nodes=20; total time=   1.5s\n",
      "[CV] END ....learning_rate=1, max_depth=2, max_leaf_nodes=20; total time=   1.5s\n",
      "[CV] END ....learning_rate=1, max_depth=2, max_leaf_nodes=20; total time=   1.5s\n",
      "[CV] END ....learning_rate=1, max_depth=2, max_leaf_nodes=30; total time=   1.5s\n",
      "[CV] END ....learning_rate=1, max_depth=2, max_leaf_nodes=30; total time=   1.5s\n",
      "[CV] END ....learning_rate=1, max_depth=2, max_leaf_nodes=30; total time=   1.5s\n",
      "[CV] END ....learning_rate=1, max_depth=2, max_leaf_nodes=30; total time=   1.5s\n",
      "[CV] END ....learning_rate=1, max_depth=2, max_leaf_nodes=30; total time=   1.5s\n",
      "[CV] END ....learning_rate=1, max_depth=2, max_leaf_nodes=40; total time=   1.5s\n",
      "[CV] END ....learning_rate=1, max_depth=2, max_leaf_nodes=40; total time=   1.5s\n",
      "[CV] END ....learning_rate=1, max_depth=2, max_leaf_nodes=40; total time=   1.5s\n",
      "[CV] END ....learning_rate=1, max_depth=2, max_leaf_nodes=40; total time=   1.5s\n",
      "[CV] END ....learning_rate=1, max_depth=2, max_leaf_nodes=40; total time=   1.5s\n",
      "[CV] END ....learning_rate=1, max_depth=4, max_leaf_nodes=10; total time=   3.2s\n",
      "[CV] END ....learning_rate=1, max_depth=4, max_leaf_nodes=10; total time=   3.5s\n",
      "[CV] END ....learning_rate=1, max_depth=4, max_leaf_nodes=10; total time=   3.2s\n",
      "[CV] END ....learning_rate=1, max_depth=4, max_leaf_nodes=10; total time=   3.2s\n",
      "[CV] END ....learning_rate=1, max_depth=4, max_leaf_nodes=10; total time=   3.2s\n",
      "[CV] END ....learning_rate=1, max_depth=4, max_leaf_nodes=20; total time=   3.2s\n",
      "[CV] END ....learning_rate=1, max_depth=4, max_leaf_nodes=20; total time=   3.5s\n",
      "[CV] END ....learning_rate=1, max_depth=4, max_leaf_nodes=20; total time=   3.2s\n",
      "[CV] END ....learning_rate=1, max_depth=4, max_leaf_nodes=20; total time=   3.3s\n",
      "[CV] END ....learning_rate=1, max_depth=4, max_leaf_nodes=20; total time=   3.2s\n",
      "[CV] END ....learning_rate=1, max_depth=4, max_leaf_nodes=30; total time=   3.2s\n",
      "[CV] END ....learning_rate=1, max_depth=4, max_leaf_nodes=30; total time=   3.4s\n",
      "[CV] END ....learning_rate=1, max_depth=4, max_leaf_nodes=30; total time=   3.2s\n",
      "[CV] END ....learning_rate=1, max_depth=4, max_leaf_nodes=30; total time=   3.3s\n",
      "[CV] END ....learning_rate=1, max_depth=4, max_leaf_nodes=30; total time=   3.2s\n",
      "[CV] END ....learning_rate=1, max_depth=4, max_leaf_nodes=40; total time=   3.2s\n",
      "[CV] END ....learning_rate=1, max_depth=4, max_leaf_nodes=40; total time=   3.4s\n",
      "[CV] END ....learning_rate=1, max_depth=4, max_leaf_nodes=40; total time=   3.2s\n",
      "[CV] END ....learning_rate=1, max_depth=4, max_leaf_nodes=40; total time=   3.3s\n",
      "[CV] END ....learning_rate=1, max_depth=4, max_leaf_nodes=40; total time=   3.2s\n"
     ]
    },
    {
     "data": {
      "text/plain": [
       "{'learning_rate': 0.4, 'max_depth': 4, 'max_leaf_nodes': 10}"
      ]
     },
     "execution_count": 33,
     "metadata": {},
     "output_type": "execute_result"
    }
   ],
   "source": [
    "from sklearn.ensemble import HistGradientBoostingClassifier\n",
    "\n",
    "param_grid = {'learning_rate': (0.01, 0.1, 0.4, 0.8, 1),\n",
    "              'max_leaf_nodes': (10, 20, 30, 40),\n",
    "              'max_depth':(1, 2, 4)}\n",
    "\n",
    "lgbm_clf = GridSearchCV(HistGradientBoostingClassifier(), param_grid, refit=True, cv=5, verbose=2)\n",
    "lgbm_clf.fit(X_train2d, y_train1d)\n",
    "lgbm_clf.best_params_"
   ]
  },
  {
   "cell_type": "code",
   "execution_count": 35,
   "metadata": {},
   "outputs": [
    {
     "data": {
      "text/plain": [
       "array([[1262,    8,    9],\n",
       "       [  56,  346,    0],\n",
       "       [  44,    0,  375]], dtype=int64)"
      ]
     },
     "execution_count": 35,
     "metadata": {},
     "output_type": "execute_result"
    }
   ],
   "source": [
    "lgbm_clf_best = lgbm_clf.best_estimator_\n",
    "predictions = lgbm_clf.predict(X_test2d)\n",
    "confusion_matrix(y_test_1d, predictions)"
   ]
  },
  {
   "cell_type": "markdown",
   "metadata": {},
   "source": [
    "### Random forrest"
   ]
  },
  {
   "cell_type": "code",
   "execution_count": 41,
   "metadata": {},
   "outputs": [
    {
     "name": "stdout",
     "output_type": "stream",
     "text": [
      "Fitting 5 folds for each of 12 candidates, totalling 60 fits\n",
      "[CV] END ............min_samples_leaf=1, min_samples_split=2; total time=  23.3s\n",
      "[CV] END ............min_samples_leaf=1, min_samples_split=2; total time=  23.1s\n",
      "[CV] END ............min_samples_leaf=1, min_samples_split=2; total time=  23.0s\n",
      "[CV] END ............min_samples_leaf=1, min_samples_split=2; total time=  23.0s\n",
      "[CV] END ............min_samples_leaf=1, min_samples_split=2; total time=  19.5s\n",
      "[CV] END ............min_samples_leaf=1, min_samples_split=4; total time=  19.6s\n",
      "[CV] END ............min_samples_leaf=1, min_samples_split=4; total time=  19.2s\n",
      "[CV] END ............min_samples_leaf=1, min_samples_split=4; total time=  19.5s\n",
      "[CV] END ............min_samples_leaf=1, min_samples_split=4; total time=  19.2s\n",
      "[CV] END ............min_samples_leaf=1, min_samples_split=4; total time=  18.9s\n",
      "[CV] END ............min_samples_leaf=1, min_samples_split=6; total time=  19.4s\n",
      "[CV] END ............min_samples_leaf=1, min_samples_split=6; total time=  19.0s\n",
      "[CV] END ............min_samples_leaf=1, min_samples_split=6; total time=  19.1s\n",
      "[CV] END ............min_samples_leaf=1, min_samples_split=6; total time=  19.2s\n",
      "[CV] END ............min_samples_leaf=1, min_samples_split=6; total time=  19.1s\n",
      "[CV] END ............min_samples_leaf=1, min_samples_split=8; total time=  19.6s\n",
      "[CV] END ............min_samples_leaf=1, min_samples_split=8; total time=  19.3s\n",
      "[CV] END ............min_samples_leaf=1, min_samples_split=8; total time=  19.1s\n",
      "[CV] END ............min_samples_leaf=1, min_samples_split=8; total time=  19.1s\n",
      "[CV] END ............min_samples_leaf=1, min_samples_split=8; total time=  18.9s\n",
      "[CV] END ............min_samples_leaf=2, min_samples_split=2; total time=  18.7s\n",
      "[CV] END ............min_samples_leaf=2, min_samples_split=2; total time=  18.2s\n",
      "[CV] END ............min_samples_leaf=2, min_samples_split=2; total time=  18.4s\n",
      "[CV] END ............min_samples_leaf=2, min_samples_split=2; total time=  18.3s\n",
      "[CV] END ............min_samples_leaf=2, min_samples_split=2; total time=  18.6s\n",
      "[CV] END ............min_samples_leaf=2, min_samples_split=4; total time=  18.7s\n",
      "[CV] END ............min_samples_leaf=2, min_samples_split=4; total time=  18.5s\n",
      "[CV] END ............min_samples_leaf=2, min_samples_split=4; total time=  18.3s\n",
      "[CV] END ............min_samples_leaf=2, min_samples_split=4; total time=  18.4s\n",
      "[CV] END ............min_samples_leaf=2, min_samples_split=4; total time=  18.1s\n",
      "[CV] END ............min_samples_leaf=2, min_samples_split=6; total time=  18.8s\n",
      "[CV] END ............min_samples_leaf=2, min_samples_split=6; total time=  18.8s\n",
      "[CV] END ............min_samples_leaf=2, min_samples_split=6; total time=  18.5s\n",
      "[CV] END ............min_samples_leaf=2, min_samples_split=6; total time=  18.5s\n",
      "[CV] END ............min_samples_leaf=2, min_samples_split=6; total time=  18.1s\n",
      "[CV] END ............min_samples_leaf=2, min_samples_split=8; total time=  18.9s\n",
      "[CV] END ............min_samples_leaf=2, min_samples_split=8; total time=  18.0s\n",
      "[CV] END ............min_samples_leaf=2, min_samples_split=8; total time=  18.2s\n",
      "[CV] END ............min_samples_leaf=2, min_samples_split=8; total time=  18.7s\n",
      "[CV] END ............min_samples_leaf=2, min_samples_split=8; total time=  18.1s\n",
      "[CV] END ............min_samples_leaf=4, min_samples_split=2; total time=  17.5s\n",
      "[CV] END ............min_samples_leaf=4, min_samples_split=2; total time=  17.0s\n",
      "[CV] END ............min_samples_leaf=4, min_samples_split=2; total time=  17.3s\n",
      "[CV] END ............min_samples_leaf=4, min_samples_split=2; total time=  17.3s\n",
      "[CV] END ............min_samples_leaf=4, min_samples_split=2; total time=  17.0s\n",
      "[CV] END ............min_samples_leaf=4, min_samples_split=4; total time=  17.3s\n",
      "[CV] END ............min_samples_leaf=4, min_samples_split=4; total time=  17.1s\n",
      "[CV] END ............min_samples_leaf=4, min_samples_split=4; total time=  17.3s\n",
      "[CV] END ............min_samples_leaf=4, min_samples_split=4; total time=  17.3s\n",
      "[CV] END ............min_samples_leaf=4, min_samples_split=4; total time=  16.7s\n",
      "[CV] END ............min_samples_leaf=4, min_samples_split=6; total time=  17.7s\n",
      "[CV] END ............min_samples_leaf=4, min_samples_split=6; total time=  17.1s\n",
      "[CV] END ............min_samples_leaf=4, min_samples_split=6; total time=  17.2s\n",
      "[CV] END ............min_samples_leaf=4, min_samples_split=6; total time=  17.3s\n",
      "[CV] END ............min_samples_leaf=4, min_samples_split=6; total time=  17.1s\n",
      "[CV] END ............min_samples_leaf=4, min_samples_split=8; total time=  17.3s\n",
      "[CV] END ............min_samples_leaf=4, min_samples_split=8; total time=  17.0s\n",
      "[CV] END ............min_samples_leaf=4, min_samples_split=8; total time=  17.1s\n",
      "[CV] END ............min_samples_leaf=4, min_samples_split=8; total time=  17.3s\n",
      "[CV] END ............min_samples_leaf=4, min_samples_split=8; total time=  16.8s\n"
     ]
    },
    {
     "data": {
      "text/plain": [
       "{'min_samples_leaf': 1, 'min_samples_split': 4}"
      ]
     },
     "execution_count": 41,
     "metadata": {},
     "output_type": "execute_result"
    }
   ],
   "source": [
    "from sklearn.ensemble import RandomForestClassifier\n",
    "\n",
    "param_grid = {'min_samples_split': (2, 4, 6, 8),\n",
    "              'min_samples_leaf': (1, 2, 4)}\n",
    "\n",
    "rf_clf = GridSearchCV(RandomForestClassifier(), param_grid=param_grid, cv=5, refit=True, verbose=2)\n",
    "rf_clf.fit(X_train2d, y_train1d)\n",
    "rf_clf.best_params_"
   ]
  },
  {
   "cell_type": "code",
   "execution_count": 38,
   "metadata": {},
   "outputs": [
    {
     "data": {
      "text/plain": [
       "array([[1268,    4,    7],\n",
       "       [ 187,  215,    0],\n",
       "       [ 112,    0,  307]], dtype=int64)"
      ]
     },
     "execution_count": 38,
     "metadata": {},
     "output_type": "execute_result"
    }
   ],
   "source": [
    "predictions = rf_clf.best_estimator_.predict(X_test2d)\n",
    "confusion_matrix(y_test_1d, predictions)"
   ]
  },
  {
   "cell_type": "code",
   "execution_count": 42,
   "metadata": {},
   "outputs": [
    {
     "data": {
      "text/plain": [
       "[<matplotlib.lines.Line2D at 0x2504c48f550>]"
      ]
     },
     "execution_count": 42,
     "metadata": {},
     "output_type": "execute_result"
    },
    {
     "data": {
      "image/png": "[encoded data removed]",
      "text/plain": [
       "<Figure size 640x480 with 1 Axes>"
      ]
     },
     "metadata": {},
     "output_type": "display_data"
    }
   ],
   "source": [
    "n_estimators_values = (100, 200, 300, 400, 500, 600)\n",
    "\n",
    "train_score, test_score = [], []\n",
    "for n_estimators in n_estimators_values:\n",
    "    rf_clf = RandomForestClassifier(min_samples_leaf=1, min_samples_split=4, n_estimators=n_estimators)\n",
    "    rf_clf.fit(X_train2d, y_train1d)\n",
    "    predictions = rf_clf.predict(X_train2d)\n",
    "    train_f1 = f1_score(y_train1d, predictions, average='weighted')\n",
    "    train_score.append(train_f1)\n",
    "    predictions = rf_clf.predict(X_test2d)\n",
    "    test_f1 = f1_score(y_test_1d, predictions, average='weighted')\n",
    "    test_score.append(test_f1)\n",
    "plt.plot(n_estimators_values, train_score, c='b')\n",
    "plt.plot(n_estimators_values, test_score, c='r')"
   ]
  },
  {
   "cell_type": "code",
   "execution_count": 49,
   "metadata": {},
   "outputs": [
    {
     "data": {
      "text/plain": [
       "[<matplotlib.lines.Line2D at 0x2504a01af90>]"
      ]
     },
     "execution_count": 49,
     "metadata": {},
     "output_type": "execute_result"
    },
    {
     "data": {
      "image/png": "[encoded data removed]",
      "text/plain": [
       "<Figure size 640x480 with 1 Axes>"
      ]
     },
     "metadata": {},
     "output_type": "display_data"
    }
   ],
   "source": [
    "depth_values = ( 4, 8, 12, 16, 20, 24, 28, 32, 36, 40, 44)\n",
    "\n",
    "train_score, test_score = [], []\n",
    "for depth in depth_values:\n",
    "    rf_clf = RandomForestClassifier(max_depth=depth, min_samples_leaf=1, min_samples_split=4, n_estimators=200)\n",
    "    rf_clf.fit(X_train2d, y_train1d)\n",
    "    predictions = rf_clf.predict(X_train2d)\n",
    "    train_f1 = f1_score(y_train1d, predictions, average='weighted')\n",
    "    train_score.append(train_f1)\n",
    "    predictions = rf_clf.predict(X_test2d)\n",
    "    test_f1 = f1_score(y_test_1d, predictions, average='weighted')\n",
    "    test_score.append(test_f1)\n",
    "plt.plot(depth_values, train_score, c='b')\n",
    "plt.plot(depth_values, test_score, c='r')"
   ]
  },
  {
   "cell_type": "code",
   "execution_count": 50,
   "metadata": {},
   "outputs": [
    {
     "data": {
      "text/plain": [
       "array([[1256,   14,    9],\n",
       "       [ 106,  296,    0],\n",
       "       [  87,    0,  332]], dtype=int64)"
      ]
     },
     "execution_count": 50,
     "metadata": {},
     "output_type": "execute_result"
    }
   ],
   "source": [
    "rf_clf = RandomForestClassifier(max_depth=32, min_samples_leaf=1, min_samples_split=4, n_estimators=200)\n",
    "rf_clf.fit(X_train2d, y_train1d)\n",
    "predictions = rf_clf.predict(X_test2d)\n",
    "confusion_matrix(y_test_1d, predictions)"
   ]
  },
  {
   "cell_type": "markdown",
   "metadata": {},
   "source": [
    "# Best model\n",
    "XGBoost"
   ]
  },
  {
   "cell_type": "markdown",
   "metadata": {},
   "source": []
  }
 ],
 "metadata": {
  "kernelspec": {
   "display_name": "Python 3",
   "language": "python",
   "name": "python3"
  },
  "language_info": {
   "codemirror_mode": {
    "name": "ipython",
    "version": 3
   },
   "file_extension": ".py",
   "mimetype": "text/x-python",
   "name": "python",
   "nbconvert_exporter": "python",
   "pygments_lexer": "ipython3",
   "version": "3.11.5"
  },
  "orig_nbformat": 4,
  "vscode": {
   "interpreter": {
    "hash": "fbe58ca63fe33f9eeae9e71d10368d2b4a57f2b1b395836210cc60d362c66949"
   }
  }
 },
 "nbformat": 4,
 "nbformat_minor": 2
}
